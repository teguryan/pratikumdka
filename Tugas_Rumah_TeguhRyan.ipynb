{
 "cells": [
  {
   "cell_type": "markdown",
   "id": "d56f9bf4",
   "metadata": {},
   "source": [
    "### TUGAS RUMAH DKA PRAKTIKUM 12 ###"
   ]
  },
  {
   "cell_type": "markdown",
   "id": "c6e9638c",
   "metadata": {},
   "source": [
    "### SOAL 1 ###"
   ]
  },
  {
   "cell_type": "code",
   "execution_count": 1,
   "id": "de9eeb12",
   "metadata": {},
   "outputs": [],
   "source": [
    "from sympy import symbols, Eq, solve, diff, sin, integrate, sqrt, Matrix"
   ]
  },
  {
   "cell_type": "code",
   "execution_count": 7,
   "id": "f9b4dee6",
   "metadata": {},
   "outputs": [
    {
     "name": "stdout",
     "output_type": "stream",
     "text": [
      "=== Sistem Pemrosesan Simbolik: Penyelesaian Persamaan ===\n",
      "\n",
      "Fakta 1 -> Eq(x - 2, 0)\n",
      "Hasil inferensi (akar): [2]\n",
      "\n",
      "Fakta 2 -> Eq(x**2 - 3*x - 4, 0)\n",
      "Hasil inferensi (akar): [-1, 4]\n",
      "\n",
      "Fakta 3 -> Eq(x**2 - 6*x + 9, 0)\n",
      "Hasil inferensi (akar): [3]\n",
      "\n",
      "Fakta 4 -> Eq(x**2 - x - 1, 0)\n",
      "Hasil inferensi (akar): [1/2 - sqrt(5)/2, 1/2 + sqrt(5)/2]\n",
      "\n",
      "Fakta 5 -> Eq(x**3 - 6*x**2 + 11*x - 6, 0)\n",
      "Hasil inferensi (akar): [1, 2, 3]\n",
      "\n",
      "Fakta 6 -> Eq(x**3 - 7*x**2 + 15*x - 9, 0)\n",
      "Hasil inferensi (akar): [1, 3]\n",
      "\n",
      "Fakta 7 -> Eq(x**5 + 7*x**4 - 9*x**2 + 15*x + 2, 0)\n",
      "Hasil inferensi (akar): [CRootOf(x**5 + 7*x**4 - 9*x**2 + 15*x + 2, 0), CRootOf(x**5 + 7*x**4 - 9*x**2 + 15*x + 2, 1), CRootOf(x**5 + 7*x**4 - 9*x**2 + 15*x + 2, 2), CRootOf(x**5 + 7*x**4 - 9*x**2 + 15*x + 2, 3), CRootOf(x**5 + 7*x**4 - 9*x**2 + 15*x + 2, 4)]\n",
      "\n",
      "Fakta 8 -> Eq(x**5 + 9*x**2 + 2, 0)\n",
      "Hasil inferensi (akar): [CRootOf(x**5 + 9*x**2 + 2, 0), CRootOf(x**5 + 9*x**2 + 2, 1), CRootOf(x**5 + 9*x**2 + 2, 2), CRootOf(x**5 + 9*x**2 + 2, 3), CRootOf(x**5 + 9*x**2 + 2, 4)]\n",
      "\n"
     ]
    }
   ],
   "source": [
    "# Representasi variabel sebagai simbol\n",
    "x = symbols('x')\n",
    "\n",
    "# Basis pengetahuan: daftar fakta berupa persamaan matematis\n",
    "basis_pengetahuan = [\n",
    "    Eq(x - 2, 0),\n",
    "    Eq(x**2 - 3*x - 4, 0),\n",
    "    Eq(x**2 - 6*x + 9, 0),\n",
    "    Eq(x**2 - x - 1, 0),\n",
    "    Eq(x**3 - 6*x**2 + 11*x - 6, 0),\n",
    "    Eq(x**3 - 7*x**2 + 15*x - 9, 0),\n",
    "    Eq(x**5 + 7*x**4 - 9*x**2 + 15*x + 2, 0),\n",
    "    Eq(x**5 + 9*x**2 + 2, 0)\n",
    "]\n",
    "\n",
    "# Mesin inferensi: proses pencarian akar dari persamaan\n",
    "def mesin_inferensi(persamaan):\n",
    "    return solve(persamaan, x)\n",
    "\n",
    "# Proses utama sistem AI simbolik\n",
    "def sistem():\n",
    "    print(\"=== Sistem Pemrosesan Simbolik: Penyelesaian Persamaan ===\\n\")\n",
    "    for i, fakta in enumerate(basis_pengetahuan, start=1):\n",
    "        akar = mesin_inferensi(fakta)\n",
    "        print(f\"Fakta {i} -> {fakta}\")\n",
    "        print(f\"Hasil inferensi (akar): {akar}\\n\")\n",
    "\n",
    "# Jalankan sistem\n",
    "sistem()"
   ]
  },
  {
   "cell_type": "markdown",
   "id": "2f05cd9b",
   "metadata": {},
   "source": [
    "### SOAL 2 ###"
   ]
  },
  {
   "cell_type": "code",
   "execution_count": 8,
   "id": "a9df7528",
   "metadata": {},
   "outputs": [
    {
     "name": "stdout",
     "output_type": "stream",
     "text": [
      "=== Sistem Simbolik: Turunan Pertama Fungsi ===\n",
      "\n",
      "Fungsi 1: x**3 + 3*x**2 + 6*x\n",
      "→ Turunan: 3*x**2 + 6*x + 6\n",
      "\n",
      "Fungsi 2: x**5 + x**4\n",
      "→ Turunan: 5*x**4 + 4*x**3\n",
      "\n",
      "Fungsi 3: (3*x + 5)**3\n",
      "→ Turunan: 9*(3*x + 5)**2\n",
      "\n",
      "Fungsi 4: (3 - 5*x)**5\n",
      "→ Turunan: -25*(3 - 5*x)**4\n",
      "\n",
      "Fungsi 5: sin(7*x)\n",
      "→ Turunan: 7*cos(7*x)\n",
      "\n",
      "Fungsi 6: sin(x**3)\n",
      "→ Turunan: 3*x**2*cos(x**3)\n",
      "\n",
      "Fungsi 7: 1/(x - 1)\n",
      "→ Turunan: -1/(x - 1)**2\n",
      "\n",
      "Fungsi 8: 3*x/(1 - x)\n",
      "→ Turunan: 3*x/(1 - x)**2 + 3/(1 - x)\n",
      "\n"
     ]
    }
   ],
   "source": [
    "x = symbols('x')\n",
    "\n",
    "# Basis Pengetahuan: daftar fungsi matematika sebagai fakta\n",
    "basis_pengetahuan = [\n",
    "    x**3 + 3*x**2 + 6*x,         # 1\n",
    "    x**5 + x**4,                 # 2\n",
    "    (3*x + 5)**3,                # 3\n",
    "    (3 - 5*x)**5,                # 4\n",
    "    sin(7*x),                    # 5\n",
    "    sin(x**3),                   # 6\n",
    "    1/(x - 1),                   # 7\n",
    "    3*x/(1 - x)                  # 8\n",
    "]\n",
    "\n",
    "# Mesin Inferensi: fungsi untuk menurunkan ekspresi\n",
    "def mesin_inferensi_turunan(ekspresi):\n",
    "    return diff(ekspresi, x)\n",
    "\n",
    "# Sistem AI simbolik untuk menghitung turunan pertama\n",
    "def sistem_turunan():\n",
    "    print(\"=== Sistem Simbolik: Turunan Pertama Fungsi ===\\n\")\n",
    "    for i, fungsi in enumerate(basis_pengetahuan, 1):\n",
    "        hasil = mesin_inferensi_turunan(fungsi)\n",
    "        print(f\"Fungsi {i}: {fungsi}\")\n",
    "        print(f\"→ Turunan: {hasil}\\n\")\n",
    "\n",
    "# Jalankan sistem\n",
    "sistem_turunan()"
   ]
  },
  {
   "cell_type": "markdown",
   "id": "3b1733b3",
   "metadata": {},
   "source": [
    "### SOAL 3 ###"
   ]
  },
  {
   "cell_type": "code",
   "execution_count": 9,
   "id": "647903eb",
   "metadata": {},
   "outputs": [
    {
     "name": "stdout",
     "output_type": "stream",
     "text": [
      "=== Sistem Simbolik: Evaluasi Integral Tentu ===\n",
      "\n",
      "Hasil inferensi untuk Integral soal 1: 4\n",
      "Hasil inferensi untuk Integral soal 2: 33/5\n",
      "Hasil inferensi untuk Integral soal 3: 15\n",
      "Hasil inferensi untuk Integral soal 4: 276\n",
      "Hasil inferensi untuk Integral soal 5: 3/4\n",
      "Hasil inferensi untuk Integral soal 6: 8/9\n",
      "Hasil inferensi untuk Integral soal 7: 16/3\n",
      "Hasil inferensi untuk Integral soal 8: 11.2500000000000\n",
      "Hasil inferensi untuk Integral soal 9: 1783/96\n",
      "Hasil inferensi untuk Integral soal 10: 15\n",
      "Hasil inferensi untuk Integral soal 11: 1\n",
      "Hasil inferensi untuk Integral soal 12: sqrt(3)\n",
      "Hasil inferensi untuk Integral soal 13: 22/5\n",
      "Hasil inferensi untuk Integral soal 14: -1.07142857142857\n"
     ]
    }
   ],
   "source": [
    "from sympy import pi\n",
    "\n",
    "# Representasi simbolik variabel\n",
    "x, w, t, y, s = symbols('x w t y s')\n",
    "\n",
    "# Basis Pengetahuan: daftar fungsi integral (fakta matematis)\n",
    "basis_pengetahuan_integral = [\n",
    "    integrate(x**3, (x, 0, 2)),                                 # 1\n",
    "    integrate(x**4, (x, -1, 2)),                                # 2\n",
    "    integrate(3*x**2 - 2*x + 3, (x, -1, 2)),                    # 3\n",
    "    integrate(4*x**3 + 7, (x, 1, 4)),                           # 4\n",
    "    integrate(1/w**2, (w, 1, 4)),                               # 5\n",
    "    integrate(2/t**3, (t, 1, 3)),                               # 6\n",
    "    integrate(sqrt(t), (t, 0, 4)),                              # 7\n",
    "    integrate(w**(1/3), (w, 1, 8)),                             # 8\n",
    "    integrate(y**2 + 1/y**3, (y, -4, -2)),                      # 9\n",
    "    integrate((s**4 - 8)/s**2, (s, 1, 4)),                      # 10\n",
    "    integrate(sin(x), (x, 0, pi/2)),                            # 11\n",
    "    integrate(2*sin(t), (t, pi/6, pi/2)),                       # 12\n",
    "    integrate(2*x**4 - 3*x**2 + 5, (x, 0, 1)),                  # 13\n",
    "    integrate(x**(4/3) - 2*x**(1/3), (x, 0, 1))                 # 14\n",
    "]\n",
    "\n",
    "# Mesin Inferensi: di sini sudah langsung dalam bentuk hasil dari sympy\n",
    "\n",
    "# Sistem AI Simbolik: Evaluasi integral tentu dari basis pengetahuan\n",
    "def sistem_integral():\n",
    "    print(\"=== Sistem Simbolik: Evaluasi Integral Tentu ===\\n\")\n",
    "    for i, hasil in enumerate(basis_pengetahuan_integral, 1):\n",
    "        print(f\"Hasil inferensi untuk Integral soal {i}: {hasil}\")\n",
    "\n",
    "# Jalankan sistem\n",
    "sistem_integral()"
   ]
  },
  {
   "cell_type": "markdown",
   "id": "19eab6a2",
   "metadata": {},
   "source": [
    "### SOAL 4 ###"
   ]
  },
  {
   "cell_type": "code",
   "execution_count": 10,
   "id": "8f00320e",
   "metadata": {},
   "outputs": [
    {
     "name": "stdout",
     "output_type": "stream",
     "text": [
      "=== Sistem Simbolik: Evaluasi Determinan Matriks ===\n",
      "\n",
      "Matriks input (basis pengetahuan):\n",
      "Matrix([[1, 0, 0, -1], [3, 1, 2, 2], [1, 0, -2, 1], [2, 0, 0, 1]])\n",
      "\n",
      "Hasil inferensi (determinan): -6\n"
     ]
    }
   ],
   "source": [
    "basis_pengetahuan_matriks = Matrix([\n",
    "    [1, 0, 0, -1],\n",
    "    [3, 1, 2, 2],\n",
    "    [1, 0, -2, 1],\n",
    "    [2, 0, 0, 1]\n",
    "])\n",
    "\n",
    "# Mesin Inferensi Simbolik: menghitung determinan sebagai proses reasoning matematis\n",
    "def sistem_determinan(matriks):\n",
    "    determinan = matriks.det()\n",
    "    print(\"=== Sistem Simbolik: Evaluasi Determinan Matriks ===\\n\")\n",
    "    print(\"Matriks input (basis pengetahuan):\")\n",
    "    print(matriks)\n",
    "    print(f\"\\nHasil inferensi (determinan): {determinan}\")\n",
    "\n",
    "# Jalankan sistem inferensi determinan\n",
    "sistem_determinan(basis_pengetahuan_matriks)\n"
   ]
  }
 ],
 "metadata": {
  "kernelspec": {
   "display_name": "Python 3",
   "language": "python",
   "name": "python3"
  },
  "language_info": {
   "codemirror_mode": {
    "name": "ipython",
    "version": 3
   },
   "file_extension": ".py",
   "mimetype": "text/x-python",
   "name": "python",
   "nbconvert_exporter": "python",
   "pygments_lexer": "ipython3",
   "version": "3.13.2"
  }
 },
 "nbformat": 4,
 "nbformat_minor": 5
}
