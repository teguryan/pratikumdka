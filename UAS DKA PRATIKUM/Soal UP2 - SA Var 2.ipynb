{
 "cells": [
  {
   "cell_type": "markdown",
   "metadata": {
    "id": "u4fKqMAMm0Xf"
   },
   "source": [
    "### Soal: Pengaturan Letak Sensor di Area 2D\n",
    "Letakkan 5 sensor dalam area 10x10 sehingga saling berjauhan sejauh mungkin. Gunakan SA untuk meminimalkan total tumpang tindih antar sensor.\n",
    "\n",
    "$$\n",
    "\\text{jarak}(a, b) = \\sqrt{(x_1 - x_2)^2 + (y_1 - y_2)^2}\n",
    "$$"
   ]
  },
  {
   "cell_type": "code",
   "execution_count": 11,
   "metadata": {
    "id": "U8vMKsiclCgw"
   },
   "outputs": [],
   "source": [
    "import random, math  # Import pustaka random dan math"
   ]
  },
  {
   "cell_type": "code",
   "execution_count": 12,
   "metadata": {
    "id": "01uFCuogm80a"
   },
   "outputs": [],
   "source": [
    "def distance(a, b):\n",
    "    # Tugas Anda: Nilai 20\n",
    "    # Jarak Euclidean\n",
    "    return math.sqrt((a[0] - b[0])**2 + (a[1] - b[1])**2)"
   ]
  },
  {
   "cell_type": "code",
   "execution_count": 13,
   "metadata": {
    "id": "kBNMWP-DnFKY"
   },
   "outputs": [],
   "source": [
    "def evaluate(sensors):\n",
    "    overlap = 0\n",
    "    min_distance = 2.0\n",
    "    for i in range(len(sensors)):\n",
    "        for j in range(i+1, len(sensors)):\n",
    "            # Tugas Anda: Nilai 20\n",
    "            # Hitung pasangan sensor terlalu dekat\n",
    "            dist = distance(sensors[i], sensors[j])\n",
    "            if dist < min_distance:\n",
    "                overlap += 1\n",
    "    return overlap"
   ]
  },
  {
   "cell_type": "code",
   "execution_count": 14,
   "metadata": {
    "id": "zyreSTEenGyk"
   },
   "outputs": [],
   "source": [
    "def simulated_annealing_sensors(T=100, alpha=0.95):\n",
    "    sensors = [(random.uniform(0, 10), random.uniform(0, 10)) for _ in range(5)]  # Inisialisasi\n",
    "    current_score = evaluate(sensors)\n",
    "    while T > 0.01 and current_score > 0:\n",
    "        new_sensors = sensors[:]\n",
    "        i = random.randint(0, 4)\n",
    "        new_sensors[i] = (random.uniform(0, 10), random.uniform(0, 10))\n",
    "        # Tugas Anda: Nilai 40\n",
    "        # Ubah posisi satu sensor\n",
    "        # Evaluasi solusi baru\n",
    "        new_score = evaluate(new_sensors)\n",
    "        delta = new_score - current_score\n",
    "        \n",
    "        if delta < 0 or math.exp(-delta / T) > random.random():\n",
    "            sensors = new_sensors\n",
    "            current_score = new_score\n",
    "            \n",
    "        T *= alpha  # Pendinginan\n",
    "    return sensors, current_score"
   ]
  },
  {
   "cell_type": "code",
   "execution_count": 21,
   "metadata": {
    "id": "aaVfN--pnIzu"
   },
   "outputs": [
    {
     "name": "stdout",
     "output_type": "stream",
     "text": [
      "\n",
      "--- RUN 1 ---\n",
      "\n",
      "Hasil Run 1:\n",
      "Score akhir (overlap): 0\n",
      "Posisi sensor:\n",
      "  Sensor 1: (2.709, 7.591)\n",
      "  Sensor 2: (4.508, 0.622)\n",
      "  Sensor 3: (8.816, 7.152)\n",
      "  Sensor 4: (4.002, 4.633)\n",
      "  Sensor 5: (6.922, 9.926)\n",
      "\n",
      "--- RUN 2 ---\n",
      "\n",
      "Hasil Run 2:\n",
      "Score akhir (overlap): 0\n",
      "Posisi sensor:\n",
      "  Sensor 1: (2.652, 7.031)\n",
      "  Sensor 2: (0.093, 6.257)\n",
      "  Sensor 3: (9.856, 2.769)\n",
      "  Sensor 4: (6.306, 7.177)\n",
      "  Sensor 5: (2.305, 4.261)\n"
     ]
    }
   ],
   "source": [
    "# Tugas Anda: Nilai 20\n",
    "# Jalankan algoritma\n",
    "# Cetak hasil\n",
    "for run in range(2):\n",
    "    print(f\"\\n--- RUN {run + 1} ---\")\n",
    "    sensors, score = simulated_annealing_sensors(T=100, alpha=0.95)\n",
    "    \n",
    "    print(f\"\\nHasil Run {run + 1}:\")\n",
    "    print(f\"Score akhir (overlap): {score}\")\n",
    "    print(\"Posisi sensor:\")\n",
    "    for i, sensor in enumerate(sensors):\n",
    "        print(f\"  Sensor {i+1}: ({sensor[0]:.3f}, {sensor[1]:.3f})\")"
   ]
  }
 ],
 "metadata": {
  "colab": {
   "authorship_tag": "ABX9TyMtmmiiHNvDB3C70dD+4jOc",
   "provenance": []
  },
  "kernelspec": {
   "display_name": "Python 3",
   "language": "python",
   "name": "python3"
  },
  "language_info": {
   "codemirror_mode": {
    "name": "ipython",
    "version": 3
   },
   "file_extension": ".py",
   "mimetype": "text/x-python",
   "name": "python",
   "nbconvert_exporter": "python",
   "pygments_lexer": "ipython3",
   "version": "3.13.2"
  }
 },
 "nbformat": 4,
 "nbformat_minor": 4
}
