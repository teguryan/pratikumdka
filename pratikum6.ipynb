{
 "cells": [
  {
   "cell_type": "markdown",
   "metadata": {},
   "source": [
    "<div align='center'>\n",
    "    <h1>Jurnal Praktikum Dasar Kecerdasan Artifisial</h1>\n",
    "    <h3>Modul 6: Implementasi Uniform Cost Search</h3>\n",
    "</div>"
   ]
  },
  {
   "cell_type": "markdown",
   "metadata": {},
   "source": [
    "### Tujuan Praktikum\n",
    "- Mahasiswa memahami dan mampu mengimplementasikan algoritma *Uniform Cost Search* pada Python dengan menggunakan *library* NetworkX."
   ]
  },
  {
   "cell_type": "markdown",
   "metadata": {},
   "source": [
    "**Jangan lupa untuk selalu import *library* NetworkX ketika memulai sesi baru (run time) atau kode Python yang memerlukan penggunaan *library* NetworkX.**"
   ]
  },
  {
   "cell_type": "markdown",
   "metadata": {},
   "source": [
    "### Import *Library* NetworkX dan Matplotlib\n",
    "\n",
    "*Library* Matplotlib digunakan untuk membantu menampilkan visualisasi graf pada terminal."
   ]
  },
  {
   "cell_type": "code",
   "execution_count": 1,
   "metadata": {},
   "outputs": [],
   "source": [
    "import networkx as nx  # Library untuk membuat graf\n",
    "import matplotlib.pyplot as plt  # Library bantuan untuk mencetak visualisasi graf"
   ]
  },
  {
   "cell_type": "markdown",
   "metadata": {},
   "source": [
    "### Fungsi pendukung untuk mencetak graf \n",
    "\n",
    "#### **!! Tidak usah dimodifikasi !!**"
   ]
  },
  {
   "cell_type": "code",
   "execution_count": 2,
   "metadata": {},
   "outputs": [],
   "source": [
    "pos = {\n",
    "    'A': (0, 0),   # Posisi node A\n",
    "    'B': (1, 3),   # Posisi node B\n",
    "    'C': (2, 0),   # Posisi node C\n",
    "    'D': (4, 2),   # Posisi node D\n",
    "    'E': (6, 0),   # Posisi node E\n",
    "    'F': (5, -2)   # Posisi node F\n",
    "}"
   ]
  },
  {
   "cell_type": "code",
   "execution_count": 4,
   "metadata": {},
   "outputs": [],
   "source": [
    "# Fungsi pendukung untuk mencetak graf\n",
    "def show_graph(G, pos=None, title='') :\n",
    "  # Membuat pos jika pos tidak diberikan\n",
    "  if pos is None:\n",
    "      pos = nx.spring_layout(G)\n",
    "  \n",
    "  # Fungsi untuk menggambar node\n",
    "  nx.draw(\n",
    "      G,                  # Graf NetworkX\n",
    "      pos,                # Posisi node\n",
    "      with_labels=True,   # Menampilkan nama node \n",
    "      node_color='red',   # Warna node\n",
    "      node_size=2000,     # Ukuran node\n",
    "      font_color=\"white\", # Warna font label node\n",
    "      font_weight=\"bold\", # Ketebalan font label node\n",
    "      width=5             # Ketebalan garis edge\n",
    "  )\n",
    "\n",
    "  # Mengambil label edge jika ada weight\n",
    "  edge_labels = nx.get_edge_attributes(G, 'weight')  \n",
    "  # Fungsi untuk menggambar node\n",
    "  nx.draw_networkx_edge_labels(\n",
    "      G,\n",
    "      pos,\n",
    "      edge_labels=edge_labels, # Data weight\n",
    "      font_color='blue',       # Warna font label edge\n",
    "      font_weight=\"bold\",      # Berat font label edge\n",
    "      font_size=16,            # Ukuran font label edge\n",
    "  )\n",
    "\n",
    "  plt.margins(0.2)  # Memberikan margin pada plot\n",
    "  plt.title(title)  # Menampilkan judul graf jika diberikan\n",
    "  plt.show()  "
   ]
  },
  {
   "cell_type": "markdown",
   "metadata": {},
   "source": [
    "### 1. Implementasi UCS pada *Weighted Undirected Graph* (Bobot Nilai: `nn`)"
   ]
  },
  {
   "cell_type": "markdown",
   "metadata": {},
   "source": [
    "Seorang kurir barang bekerja di sebuah kota besar. Tugasnya adalah mengirimkan barang dari satu titik ke titik lainnya dengan jarak tempuh yang seminimal  mungkin. Kota tersebut memiliki beberapa titik yang dihubungkan oleh berbagai jalan. Setiap jalan memiliki bobot yang merepresentasikan jarak antar titik.\n",
    "\n",
    "Bantulah kurir tersebut menemukan rute terpendek antara 2 tempat berdasarkan input yang diberikan."
   ]
  },
  {
   "cell_type": "markdown",
   "metadata": {},
   "source": [
    "**a.** Inisialisasi graf bernama `kota` menggunakan **graf tidak berarah**."
   ]
  },
  {
   "cell_type": "code",
   "execution_count": 5,
   "metadata": {},
   "outputs": [],
   "source": [
    "# Inisialisasi graf tidak berarah\n",
    "kota = nx.Graph()"
   ]
  },
  {
   "cell_type": "markdown",
   "metadata": {},
   "source": [
    "**b.** Tambahkan node untuk merepresentasikan setiap lokasi di kota tersebut. Nama node adalah sebagai berikut :\n",
    "- Node `A`\n",
    "- Node `B`\n",
    "- Node `C`\n",
    "- Node `D`\n",
    "- Node `E`\n",
    "- Node `F`"
   ]
  },
  {
   "cell_type": "code",
   "execution_count": 6,
   "metadata": {},
   "outputs": [
    {
     "data": {
      "image/png": "[encoded data removed]",
      "text/plain": [
       "<Figure size 640x480 with 1 Axes>"
      ]
     },
     "metadata": {},
     "output_type": "display_data"
    }
   ],
   "source": [
    "# List daftar nama titik di dalam kota\n",
    "nodes = ['A', 'B', 'C', 'D', 'E', 'F']\n",
    "\n",
    "# Tambahkan node dari list variabel `nodes` pada graf kota\n",
    "kota.add_nodes_from(nodes)\n",
    "\n",
    "# Tampilkan graf kota setelah penambahan node\n",
    "show_graph(kota, pos=pos, title=\"Penambahan lokasi pada graf kota\")\n"
   ]
  },
  {
   "cell_type": "markdown",
   "metadata": {},
   "source": [
    "Contoh *output*:\n",
    "\n",
    "![Contoh output penambahan lokasi](./asset/1_addnodekota.png)"
   ]
  },
  {
   "cell_type": "markdown",
   "metadata": {},
   "source": [
    "**c.** Pada graf kota, setiap edge mewakili hubungan antara dua lokasi, dan masing-masing hubungan memiliki jarak tempuh tertentu yang direpresentasikan sebagai `weight` pada graf. Berikut ini adalah jarak lokasi antara titik yang ada di kota tersebut:\n",
    "\n",
    "- `A` ke `B`: 4 km.\n",
    "- `A` ke `C`: 2 km.\n",
    "- `B` ke `C`: 5 km.\n",
    "- `B` ke `D`: 3 km.\n",
    "- `C` ke `E`: 8 km.\n",
    "- `D` ke `E`: 2 km.\n",
    "- `D` ke `F`: 6 km.\n",
    "- `E` ke `F`: 3 km."
   ]
  },
  {
   "cell_type": "code",
   "execution_count": 7,
   "metadata": {},
   "outputs": [
    {
     "data": {
      "image/png": "[encoded data removed]",
      "text/plain": [
       "<Figure size 640x480 with 1 Axes>"
      ]
     },
     "metadata": {},
     "output_type": "display_data"
    }
   ],
   "source": [
    "# Daftar jarak antara dua titik pada kota\n",
    "edges = [\n",
    "    ('A', 'B', 4),\n",
    "    ('A', 'C', 2),\n",
    "    ('B', 'D', 10),\n",
    "    ('B', 'C', 5),\n",
    "    ('C', 'D', 3),\n",
    "    ('C', 'E', 8),\n",
    "    ('D', 'E', 2),\n",
    "    ('D', 'F', 6),\n",
    "    ('E', 'F', 3)\n",
    "]\n",
    "# Tambahkan jarak yang menghubungkan antara dua titik ke dalam graf kota\n",
    "kota.add_weighted_edges_from(edges)\n",
    "\n",
    "# Tampilkan graf kota setelah penambahan edge\n",
    "show_graph(kota, pos=pos, title=\"Graf kota dengan jarak antar lokasi\")\n"
   ]
  },
  {
   "cell_type": "markdown",
   "metadata": {},
   "source": [
    "Contoh *output*:\n",
    "\n",
    "![Contoh output penambahan lokasi](./asset/2_addedgekota.png)"
   ]
  },
  {
   "cell_type": "markdown",
   "metadata": {},
   "source": [
    "**d.** Pada potongan kode dibawah, buat fungsi `heuristable(a, b)`. Karena UCS tidak memperhatikan nilai heuristik, maka cukup kembalikan 0."
   ]
  },
  {
   "cell_type": "code",
   "execution_count": 28,
   "metadata": {},
   "outputs": [],
   "source": [
    "def heuristic(a, b):\n",
    "    return 0  # Asumsikan tidak pakai heuristik sebenarnya\n"
   ]
  },
  {
   "cell_type": "markdown",
   "metadata": {},
   "source": [
    "**e.** Pada potongan kode dibawah, buat kode untuk menemukan rute terpendek dengan mempertimbangkan jarak total antara lokasi awal dan lokasi tujuan yang dimasukkan oleh pengguna. \n",
    "\n",
    "Dalam proses pencarian rute, gunakan algoritma *Uniform Cost Search (UCS)* yang diimplementasikan menggunakan `astar_path()` pada NetworkX dengan nilai heuristik 0 yang sudah didefinisikan pada fungsi `heuristable()`.\n",
    "\n",
    "Kemudian tampilkan rute terpendek yang sudah dicari antara titik awal dan titik tujuan yang sudah dimasukkan oleh user serta tampilkan juga besar jarak yang ditempuh dari titik awal ke titik tujuan tersebut."
   ]
  },
  {
   "cell_type": "code",
   "execution_count": 29,
   "metadata": {},
   "outputs": [
    {
     "name": "stdout",
     "output_type": "stream",
     "text": [
      "Titik yang dikunjungi dari B ke F: ['B', 'C', 'D', 'E', 'F']\n",
      "Besar weight terkecil dari B ke F: 13 km\n"
     ]
    }
   ],
   "source": [
    "# Input dari pengguna\n",
    "start_node = input(\"Masukkan titik awal: \")\n",
    "end_node = input(\"Masukkan titik tujuan: \")\n",
    "\n",
    "# Mencari jalur terpendek dari start ke end menggunakan A*\n",
    "path = nx.astar_path(\n",
    "    kota,\n",
    "    start_node,\n",
    "    end_node,\n",
    "    heuristic=heuristic,\n",
    "    weight='weight'\n",
    ")\n",
    "\n",
    "# Menghitung panjang jalur terpendek\n",
    "path_length = nx.astar_path_length(\n",
    "    kota,\n",
    "    start_node,\n",
    "    end_node,\n",
    "    heuristic=heuristic,\n",
    "    weight='weight'\n",
    ")\n",
    "\n",
    "# Cetak hasil\n",
    "print(f\"Titik yang dikunjungi dari {start_node} ke {end_node}: {path}\")\n",
    "print(f\"Besar weight terkecil dari {start_node} ke {end_node}: {path_length} km\")"
   ]
  },
  {
   "cell_type": "markdown",
   "metadata": {},
   "source": [
    "Contoh *output*:\n",
    "\n",
    "|input|output|\n",
    "|-----|------|\n",
    "|Masukkan titik awal: `B`<br>Masukkan titik tujuan: `F`|Titik yang dikunjungi dari B ke F: ['B', 'C', 'D', 'E', 'F']<br>Besar weight terkecil dari B ke F: 13 km|\n",
    "|Masukkan titik awal: `A`<br>Masukkan titik tujuan: `D`|Titik yang dikunjungi dari A ke D: ['A', 'C', 'D']<br>Besar weight terkecil dari A ke D: 5 km|"
   ]
  },
  {
   "cell_type": "markdown",
   "metadata": {},
   "source": [
    "### 2. Implementasi UCS pada *Weighted Directed Graph* (Bobot Nilai: `nn`)"
   ]
  },
  {
   "cell_type": "markdown",
   "metadata": {},
   "source": [
    "Seorang detektif sedang menyelidiki jaringan kejahatan di sebuah kota besar. Detektif tersebut menemukan peta yang berisi rute rahasia yang menghubungkan beberapa lokasi markas jaringan kriminal yang menyembunyikan tempat penyimpanan barang ilegal. Namun, rute rahasia ini hanya bisa dilewati satu arah saja.\n",
    "\n",
    "Bantu detektif mencari rute terpendek dari suatu lokasi ke lokasi lainnya dengan membuat graf pada NetworkX dan implementasikan algoritma *Uniform Cost Search (UCS)* untuk mencari rute yang dilalui dan menghitung jarak antara dua titik tersebut."
   ]
  },
  {
   "cell_type": "markdown",
   "metadata": {},
   "source": [
    "### Import *Library* NetworkX dan Matplotlib\n",
    "\n",
    "*Library* Matplotlib digunakan untuk membantu menampilkan visualisasi graf pada terminal."
   ]
  },
  {
   "cell_type": "code",
   "execution_count": 1,
   "metadata": {},
   "outputs": [],
   "source": [
    "import networkx as nx # Library untuk membuat graf\n",
    "import matplotlib.pyplot as plt # Library untuk membuat plot grafik"
   ]
  },
  {
   "cell_type": "markdown",
   "metadata": {},
   "source": [
    "### Fungsi pendukung untuk mencetak graf \n",
    "\n",
    "#### **!! Tidak usah dimodifikasi !!**"
   ]
  },
  {
   "cell_type": "code",
   "execution_count": 2,
   "metadata": {},
   "outputs": [],
   "source": [
    "pos = {\n",
    "    'NullPointer': (0, 0),\n",
    "    'RootAccess': (1, 5),\n",
    "    'DataBreach': (2, 0),\n",
    "    'SyntaxError': (4, 4), \n",
    "    'BinaryBlasters': (6, 0),\n",
    "    'CyberPatrol': (5, -3)\n",
    "}"
   ]
  },
  {
   "cell_type": "code",
   "execution_count": 3,
   "metadata": {},
   "outputs": [],
   "source": [
    "# Fungsi untuk menampilkan graf\n",
    "def show_graph(G, pos=None, title=''):\n",
    "    if pos is None:\n",
    "        pos = nx.spring_layout(G)\n",
    "\n",
    "    nx.draw(\n",
    "        G,\n",
    "        pos,\n",
    "        with_labels=True,\n",
    "        node_color='red',\n",
    "        node_size=3000,\n",
    "        font_color=\"white\",\n",
    "        font_weight=\"bold\",\n",
    "        font_size=7,\n",
    "        width=5\n",
    "    )\n",
    "\n",
    "    edge_labels = nx.get_edge_attributes(G, 'weight')\n",
    "    nx.draw_networkx_edge_labels(\n",
    "        G,\n",
    "        pos,\n",
    "        edge_labels=edge_labels,\n",
    "        font_color='blue',\n",
    "        font_weight=\"bold\",\n",
    "        font_size=16,\n",
    "    )\n",
    "\n",
    "    plt.margins(0.2)\n",
    "    plt.title(title)\n",
    "    plt.show()"
   ]
  },
  {
   "cell_type": "markdown",
   "metadata": {},
   "source": [
    "**a.** Inisialisasi graf bernama \"peta_rahasia\" menggunakan **graf berarah** untuk menunjukkan arah jalan rahasia antar markas jaringan kriminal"
   ]
  },
  {
   "cell_type": "code",
   "execution_count": 4,
   "metadata": {},
   "outputs": [],
   "source": [
    "# Inisialisasi graf berarah\n",
    "peta_rahasia = nx.DiGraph()"
   ]
  },
  {
   "cell_type": "markdown",
   "metadata": {},
   "source": [
    "**b.** Pada peta, terdapat beberapa nama jaringan kriminal yang terlibat, nama jaringan kriminal adalah `NullPointer`, `RootAccess`, `DataBreach`, `SyntaxError`, `BinaryBlasters`, dan `CyberPatrol`. Tambahkan nama-nama jaringan kriminal yang terlibat tersebut ke dalam graf `peta_rahasia`."
   ]
  },
  {
   "cell_type": "code",
   "execution_count": 5,
   "metadata": {},
   "outputs": [
    {
     "data": {
      "image/png": "[encoded data removed]",
      "text/plain": [
       "<Figure size 640x480 with 1 Axes>"
      ]
     },
     "metadata": {},
     "output_type": "display_data"
    }
   ],
   "source": [
    "# List nama sindikat gang yang terlibat\n",
    "sindikat = ['NullPointer', 'RootAccess', 'DataBreach', 'SyntaxError', 'BinaryBlasters', 'CyberPatrol']\n",
    "\n",
    "# Tambahkan node dari daftar sindikat gang yang terlibat\n",
    "peta_rahasia.add_nodes_from(sindikat)\n",
    "\n",
    "# Tampilkan graf setelah penambahan node\n",
    "show_graph(peta_rahasia, pos=pos, title=\"Graf kosong (hanya node)\")\n"
   ]
  },
  {
   "cell_type": "markdown",
   "metadata": {},
   "source": [
    "Contoh *output*:\n",
    "\n",
    "![Contoh output penambahan lokasi](./asset/3_addnodepeta.png)"
   ]
  },
  {
   "cell_type": "markdown",
   "metadata": {},
   "source": [
    "**c.** Berikut adalah jarak dari setiap rute yang terdapat pada peta rahasia:\n",
    "- `NullPointer` ke `RootAccess` memiliki rute sepanjang 6 km.\n",
    "- `NullPointer` ke `DataBreach` memiliki rute sepanjang 3 km.\n",
    "- `RootAccess` ke `SyntaxError` memiliki rute sepanjang 2 km.\n",
    "- `DataBreach` ke `SyntaxError` memiliki rute sepanjang 7 km.\n",
    "- `SyntaxError` ke `BinaryBlasters` memiliki rute sepanjang 4 km.\n",
    "- `BinaryBlasters` ke `CyberPatrol` memiliki rute sepanjang 5 km.\n",
    "- `RootAccess` ke `BinaryBlasters` memiliki rute sepanjang 8km.\n",
    "- `DataBerach` ke `CyberPatrol` memiliki rute sepanjang 9 km.\n",
    "\n",
    "Tambahkan data rute tersebut ke dalam graf `peta_rahasia`."
   ]
  },
  {
   "cell_type": "code",
   "execution_count": 6,
   "metadata": {},
   "outputs": [
    {
     "data": {
      "image/png": "[encoded data removed]",
      "text/plain": [
       "<Figure size 640x480 with 1 Axes>"
      ]
     },
     "metadata": {},
     "output_type": "display_data"
    }
   ],
   "source": [
    "# Tambahkan informasi jarak markas para sindikat sebagai edge\n",
    "edges = [\n",
    "    ('NullPointer', 'RootAccess', 6), \n",
    "    ('NullPointer', 'DataBreach', 3), \n",
    "    ('RootAccess', 'SyntaxError', 2), \n",
    "    ('DataBreach', 'SyntaxError', 7), \n",
    "    ('SyntaxError', 'BinaryBlasters', 4), \n",
    "    ('BinaryBlasters', 'CyberPatrol', 5), \n",
    "    ('RootAccess', 'BinaryBlasters', 8), \n",
    "    ('DataBreach', 'CyberPatrol', 9)\n",
    "]\n",
    "peta_rahasia.add_weighted_edges_from(edges)\n",
    "\n",
    "# Cetak graf dengan edge\n",
    "show_graph(peta_rahasia, pos=pos, title=\"Peta Rahasia Sindikat\")\n"
   ]
  },
  {
   "cell_type": "markdown",
   "metadata": {},
   "source": [
    "Contoh *output*:\n",
    "\n",
    "![Contoh output penambahan lokasi](./asset/4_addedgepeta.png)"
   ]
  },
  {
   "cell_type": "markdown",
   "metadata": {},
   "source": [
    "**d.** Buat sebuah program yang memanfaatkan graf `peta_rahasia` untuk mencetak setiap markas dan markas lainnya yang terhubung dengan markas tersebut."
   ]
  },
  {
   "cell_type": "code",
   "execution_count": 8,
   "metadata": {},
   "outputs": [
    {
     "name": "stdout",
     "output_type": "stream",
     "text": [
      "Koneksi setiap markas\n",
      "- NullPointer terhubung dengan: ['RootAccess', 'DataBreach']\n",
      "- RootAccess terhubung dengan: ['SyntaxError', 'BinaryBlasters']\n",
      "- DataBreach terhubung dengan: ['SyntaxError', 'CyberPatrol']\n",
      "- SyntaxError terhubung dengan: ['BinaryBlasters']\n",
      "- BinaryBlasters terhubung dengan: ['CyberPatrol']\n"
     ]
    }
   ],
   "source": [
    "print(\"Koneksi setiap markas\")\n",
    "\n",
    "# Iterasi untuk setiap node (markas)\n",
    "for node in peta_rahasia.nodes():\n",
    "    # Ambil semua node yang terhubung langsung (successors)\n",
    "    children = list(peta_rahasia.successors(node))\n",
    "\n",
    "    # Jika markas terhubung dengan markas lainnya, tampilkan daftarnya\n",
    "    if children:\n",
    "        # Tampilkan nama markas beserta daftar terhubung ke markas lainnya\n",
    "        print(f\"- {node} terhubung dengan: {children}\")"
   ]
  },
  {
   "cell_type": "markdown",
   "metadata": {},
   "source": [
    "Contoh *output*:\n",
    "\n",
    "```\n",
    "Koneksi setiap markas\n",
    "- NullPointer terhubung dengan: ['RootAccess', 'DataBreach']\n",
    "- RootAccess terhubung dengan: ['SyntaxError', 'BinaryBlasters']\n",
    "- DataBreach terhubung dengan: ['SyntaxError', 'CyberPatrol']\n",
    "- SyntaxError terhubung dengan: ['BinaryBlasters']\n",
    "- BinaryBlasters terhubung dengan: ['CyberPatrol']\n",
    "```"
   ]
  },
  {
   "cell_type": "markdown",
   "metadata": {},
   "source": [
    "**e.** Pada potongan kode dibawah, buat fungsi `heuristable(a, b)`. Karena UCS tidak memperhatikan nilai heuristik, maka cukup kembalikan 0."
   ]
  },
  {
   "cell_type": "code",
   "execution_count": 9,
   "metadata": {},
   "outputs": [],
   "source": [
    "# Fungsi heuristik dummy (tidak digunakan)\n",
    "def heuristic(a, b):\n",
    "    return 0  # Bisa diubah jadi euclidean distance jika mau"
   ]
  },
  {
   "cell_type": "markdown",
   "metadata": {},
   "source": [
    "**f.** Pada potongan kode dibawah, buat kode untuk menemukan rute terpendek antara dua markas dengan mempertimbangkan jarak total antara lokasi awal dan lokasi tujuan yang dimasukkan oleh pengguna. \n",
    "\n",
    "Dalam proses pencarian rute, gunakan algoritma *Uniform Cost Search (UCS)* yang diimplementasikan menggunakan `astar_path()` pada NetworkX dengan nilai heuristik 0 yang sudah didefinisikan pada fungsi `heuristable()`.\n",
    "\n",
    "Kemudian tampilkan rute terpendek yang sudah dicari antara titik awal dan titik tujuan yang sudah dimasukkan oleh user serta tampilkan juga besar jarak yang ditempuh dari titik awal ke titik tujuan tersebut."
   ]
  },
  {
   "cell_type": "code",
   "execution_count": 10,
   "metadata": {},
   "outputs": [
    {
     "name": "stdout",
     "output_type": "stream",
     "text": [
      "Jalur terpendek dari RootAccess ke BinaryBlasters: ['RootAccess', 'SyntaxError', 'BinaryBlasters']\n",
      "Total jarak: 6 satuan\n"
     ]
    }
   ],
   "source": [
    "# Minta input pengguna\n",
    "start_node = input(\"Masukkan markas awal: \")\n",
    "end_node = input(\"Masukkan markas tujuan: \")\n",
    "\n",
    "# Mencari jalur menggunakan A*\n",
    "path = nx.astar_path(\n",
    "    peta_rahasia,\n",
    "    start_node,\n",
    "    end_node,\n",
    "    heuristic=heuristic,\n",
    "    weight='weight'\n",
    ")\n",
    "\n",
    "# Menghitung panjang jalur\n",
    "path_length = nx.astar_path_length(\n",
    "    peta_rahasia,\n",
    "    start_node,\n",
    "    end_node,\n",
    "    heuristic=heuristic,\n",
    "    weight='weight'\n",
    ")\n",
    "\n",
    "# Cetak hasil\n",
    "print(f\"Jalur terpendek dari {start_node} ke {end_node}: {path}\")\n",
    "print(f\"Total jarak: {path_length} satuan\")"
   ]
  },
  {
   "cell_type": "markdown",
   "metadata": {},
   "source": [
    "Contoh *output*:\n",
    "\n",
    "|input|output|\n",
    "|-----|------|\n",
    "|Masukkan titik awal: `RootAccess`<br>Masukkan titik tujuan: `BinaryBlasters`|Titik yang dikunjungi dari RootAccess ke BinaryBlasters: ['RootAccess', 'SyntaxError', 'BinaryBlasters']<br>Besar weight terkecil dari RootAccess ke BinaryBlasters: 6 km|\n",
    "|Masukkan titik awal: `NullPointer`<br>Masukkan titik tujuan: `CyberPatrol`|Titik yang dikunjungi dari NullPointer ke CyberPatrol: ['NullPointer', 'DataBreach', 'CyberPatrol']<br>Besar weight terkecil dari NullPointer ke CyberPatrol: 12 km|"
   ]
  },
  {
   "cell_type": "markdown",
   "metadata": {},
   "source": [
    "### 3. Soal Mandiri (Bobot Nilai: `nn`)\n",
    "\n",
    "Seorang insinyur jaringan sedang memetakan infrastruktur jaringan komputer di sebuah perusahaan besar. Infrastruktur ini direpresentasikan sebagai sebuah *tree*, di mana setiap node mewakili perangkat jaringan seperti `Server (S)`, `Router (R)`, `Switch (S)`, dan `Computer (C)`. Hubungan antara node menunjukkan koneksi fisik antar perangkat tersebut.\n",
    "\n",
    "Setiap koneksi memiliki bobot yang merepresentasikan *latency* dalam milidetik (ms) antara perangkat-perangkat tersebut. Bantu insinyur untuk menghitung latensi dari suatu perangkat ke perangkat lain dengan menggunakan algoritma *Uniform Cost Search* untuk menemukan rute dengan total latensi terendah pada jaringan komputer perusahaan yang direpresentasikan sebagai *tree*.\n",
    "\n",
    "Kemudian, buat program yang dapat menghitung *latency* dari perangkat sumber ke perangkat tujuan. Minta nilai perangkat sumber dan perangkat tujuan dari *input user*.\n",
    "\n",
    "Berikut adalah nama perangkat yang terdapat dalam jaringan. Buat kode-perangkat sebagai nama node.\n",
    "|Nama|Kode-Perangkat|\n",
    "|----|--------------|\n",
    "|Server Utama|S|\n",
    "|Router-A|R-A|\n",
    "|Router-B|R-B|\n",
    "|Switch-A1|Sw-A1|\n",
    "|Switch-A2|Sw-A2|\n",
    "|Switch-B|Sw-B|\n",
    "|Computer-A1|C-A1|\n",
    "|Computer-A2|C-A2|\n",
    "|Computer-B1|C-B1|\n",
    "|Computer-B2|C-B2|\n",
    "\n",
    "Berikut adalah latency koneksi antara device dalam satuan milidetik (ms)\n",
    "|Sumber|Tujuan|*Latency*|\n",
    "|------|------|---------|\n",
    "|S|R-A|5ms|\n",
    "|S|R-B|3ms|\n",
    "|R-A|Sw-A1|2ms|\n",
    "|R-A|Sw-A2|4ms|\n",
    "|R-B|Sw-B|6ms|\n",
    "|Sw-A1|C-A1|3ms|\n",
    "|Sw-A2|C-A2|7ms|\n",
    "|Sw-B1|C-B1|5ms|\n",
    "|Sw-B1|C-B2|2ms|\n",
    "\n",
    "Instruksi:\n",
    "- Buatlah sebuah *tree* yang merepresentasikan jaringan komputer di perusahan tersebut menggunakan NetworkX dengan jenis graf tidak berarah.\n",
    "- Tampilkan *tree* yang sudah dibuat dengan `show_graph()`.\n",
    "- Minta input pengguna untuk `perangkat sumber` dan `perangkat tujuan` yang akan ditelusuri.\n",
    "- Implementasikan algoritma UCS dengan menggunakan `astar_path()` dengan nilai heuristik 0.\n",
    "- Tampilkan rute yang dilalui dari perangkat sumber ke perangkat tujuan beserta *latency*nya"
   ]
  },
  {
   "cell_type": "markdown",
   "metadata": {},
   "source": [
    "### Fungsi pendukung untuk mencetak graf \n",
    "\n",
    "#### **!! Tidak usah dimodifikasi !!**"
   ]
  },
  {
   "cell_type": "code",
   "execution_count": 65,
   "metadata": {},
   "outputs": [],
   "source": [
    "# Import library yang dibutuhkan\n",
    "import networkx as nx\n",
    "import matplotlib.pyplot as plt"
   ]
  },
  {
   "cell_type": "code",
   "execution_count": 66,
   "metadata": {},
   "outputs": [],
   "source": [
    "# Posisi setiap node dalam tree\n",
    "pos = {\n",
    "    'S': (0, 4),\n",
    "    'R-A': (-2, 2),\n",
    "    'R-B': (2, 2),\n",
    "    'Sw-A1': (-3, 0),\n",
    "    'Sw-A2': (-1, 0),\n",
    "    'Sw-B1': (2, 0),\n",
    "    'C-A1': (-3, -2),\n",
    "    'C-A2': (-1, -2),\n",
    "    'C-B1': (1, -2),\n",
    "    'C-B2': (3, -2)\n",
    "}\n"
   ]
  },
  {
   "cell_type": "code",
   "execution_count": 67,
   "metadata": {},
   "outputs": [],
   "source": [
    "# Fungsi pendukung untuk mencetak graf\n",
    "def show_graph(G, pos=None, title='') :\n",
    "  # Membuat pos jika pos tidak diberikan\n",
    "  if pos is None:\n",
    "      pos = nx.spring_layout(G)\n",
    "  \n",
    "  # Fungsi untuk menggambar node\n",
    "  nx.draw(\n",
    "      G,                  # Graf NetworkX\n",
    "      pos,                # Posisi node\n",
    "      with_labels=True,   # Menampilkan nama node \n",
    "      node_color='red',   # Warna node\n",
    "      node_size=2000,     # Ukuran node\n",
    "      font_color=\"white\", # Warna font label node\n",
    "      font_weight=\"bold\", # Ketebalan font label node\n",
    "      width=5             # Ketebalan garis edge\n",
    "  )\n",
    "\n",
    "  # Mengambil label edge jika ada weight\n",
    "  edge_labels = nx.get_edge_attributes(G, 'weight')  \n",
    "  # Fungsi untuk menggambar node\n",
    "  nx.draw_networkx_edge_labels(\n",
    "      G,\n",
    "      pos,\n",
    "      edge_labels=edge_labels, # Data weight\n",
    "      font_color='blue',       # Warna font label edge\n",
    "      font_weight=\"bold\",      # Berat font label edge\n",
    "      font_size=16,            # Ukuran font label edge\n",
    "  )\n",
    "\n",
    "  plt.margins(0.2)  # Memberikan margin pada plot\n",
    "  plt.title(title)  # Menampilkan judul graf jika diberikan\n",
    "  plt.show()  "
   ]
  },
  {
   "cell_type": "markdown",
   "metadata": {},
   "source": [
    "**Kerjakan soal mandiri pada blok kode dibawah**"
   ]
  },
  {
   "cell_type": "code",
   "execution_count": 17,
   "metadata": {},
   "outputs": [
    {
     "data": {
      "image/png": "[encoded data removed]",
      "text/plain": [
       "<Figure size 640x480 with 1 Axes>"
      ]
     },
     "metadata": {},
     "output_type": "display_data"
    },
    {
     "name": "stdout",
     "output_type": "stream",
     "text": [
      "Perangkat yang dikunjungi dari S ke C-B1: ['S', 'R-B', 'Sw-B1', 'C-B1']\n",
      "Besar latency dari S ke C-B1: 14ms\n"
     ]
    }
   ],
   "source": [
    "import networkx as nx\n",
    "import matplotlib.pyplot as plt\n",
    "\n",
    "# Posisi setiap node\n",
    "pos = {\n",
    "    'S': (0, 4),\n",
    "    'R-A': (-2, 2),\n",
    "    'R-B': (2, 2),\n",
    "    'Sw-A1': (-3, 0),\n",
    "    'Sw-A2': (-1, 0),\n",
    "    'Sw-B1': (2, 0),\n",
    "    'C-A1': (-3, -2),\n",
    "    'C-A2': (-1, -2),\n",
    "    'C-B1': (1, -2),\n",
    "    'C-B2': (3, -2)\n",
    "}\n",
    "\n",
    "# Fungsi untuk menampilkan graf\n",
    "def show_graph(G, pos=None, title=''):\n",
    "    if pos is None:\n",
    "        pos = nx.spring_layout(G)\n",
    "\n",
    "    nx.draw(\n",
    "        G, pos,\n",
    "        with_labels=True,\n",
    "        node_color='red',\n",
    "        node_size=2000,\n",
    "        font_color=\"white\",\n",
    "        font_weight=\"bold\",\n",
    "        width=5\n",
    "    )\n",
    "\n",
    "    edge_labels = nx.get_edge_attributes(G, 'weight')\n",
    "    nx.draw_networkx_edge_labels(\n",
    "        G, pos,\n",
    "        edge_labels=edge_labels,\n",
    "        font_color='blue',\n",
    "        font_weight=\"bold\",\n",
    "        font_size=16,\n",
    "    )\n",
    "\n",
    "    plt.margins(0.2)\n",
    "    plt.title(title)\n",
    "    plt.show()\n",
    "\n",
    "# Inisialisasi graf berarah\n",
    "tree = nx.DiGraph()\n",
    "\n",
    "# Tambah node\n",
    "tree.add_nodes_from(pos.keys())\n",
    "\n",
    "# Tambah edge beserta weight (latency)\n",
    "edges = [\n",
    "    ('S', 'R-A', 5), \n",
    "    ('S', 'R-B', 3),\n",
    "    ('R-A', 'Sw-A1', 2), \n",
    "    ('R-A', 'Sw-A2', 4),\n",
    "    ('R-B', 'Sw-B1', 6),\n",
    "    ('Sw-A1', 'C-A1', 3), \n",
    "    ('Sw-A2', 'C-A2', 7),\n",
    "    ('Sw-B1', 'C-B1', 5), \n",
    "    ('Sw-B1', 'C-B2', 2)\n",
    "]\n",
    "\n",
    "# Tambahkan edge ke tree\n",
    "tree.add_weighted_edges_from(edges)\n",
    "\n",
    "# Tampilkan graf\n",
    "show_graph(tree, pos=pos, title=\"Struktur Tree Jaringan\")\n",
    "\n",
    "# Input dari pengguna\n",
    "start_node = input(\"Masukkan titik awal: \")\n",
    "end_node = input(\"Masukkan titik tujuan: \")\n",
    "\n",
    "# Cari jalur terpendek berdasarkan latency (weight)\n",
    "path = nx.dijkstra_path(tree, start_node, end_node, weight='weight')\n",
    "path_length = nx.dijkstra_path_length(tree, start_node, end_node, weight='weight')\n",
    "\n",
    "# Cetak hasil\n",
    "print(f\"Perangkat yang dikunjungi dari {start_node} ke {end_node}: {path}\")\n",
    "print(f\"Besar latency dari {start_node} ke {end_node}: {path_length}ms\")\n"
   ]
  },
  {
   "cell_type": "markdown",
   "metadata": {},
   "source": [
    "Contoh *output*:\n",
    "\n",
    "![Contoh Graf Network](./asset/5_grafnetwork.png)\n",
    "\n",
    "|Input|Output|\n",
    "|-----|------|\n",
    "|Masukkan titik awal: `S`<br>Masukkan titik tujuan: `C-B1`|Perangkat yang dikunjungi dari S ke C-B1: ['S', 'R-B', 'Sw-B1', 'C-B1']<br>Besar latency dari S ke C-B1: 14ms|"
   ]
  }
 ],
 "metadata": {
  "kernelspec": {
   "display_name": "Python 3",
   "language": "python",
   "name": "python3"
  },
  "language_info": {
   "codemirror_mode": {
    "name": "ipython",
    "version": 3
   },
   "file_extension": ".py",
   "mimetype": "text/x-python",
   "name": "python",
   "nbconvert_exporter": "python",
   "pygments_lexer": "ipython3",
   "version": "3.13.2"
  }
 },
 "nbformat": 4,
 "nbformat_minor": 2
}
