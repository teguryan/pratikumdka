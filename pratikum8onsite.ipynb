{
 "cells": [
  {
   "cell_type": "markdown",
   "id": "7cb30c49",
   "metadata": {},
   "source": [
    "<h2 style=\"text-align:center;\"> Teguh Ryan - 1203230044 <h2>"
   ]
  },
  {
   "cell_type": "markdown",
   "id": "080af0a7",
   "metadata": {},
   "source": [
    "RUMUS ECLUDIAN\n",
    "\n",
    "akar((x2-x1)kuadrat + (y2-y1)kuadrat)"
   ]
  },
  {
   "cell_type": "markdown",
   "id": "6e18e3a6",
   "metadata": {},
   "source": [
    "Import library"
   ]
  },
  {
   "cell_type": "code",
   "execution_count": 23,
   "id": "51b63825",
   "metadata": {},
   "outputs": [],
   "source": [
    "import random\n",
    "import math"
   ]
  },
  {
   "cell_type": "markdown",
   "id": "e67e70e0",
   "metadata": {},
   "source": [
    "Deklarasi function"
   ]
  },
  {
   "cell_type": "code",
   "execution_count": 51,
   "id": "59c49dcc",
   "metadata": {},
   "outputs": [
    {
     "name": "stdout",
     "output_type": "stream",
     "text": [
      "Solusi awal (urutan kota): ['E', 'A', 'B', 'C', 'D']\n",
      "Total jarak awal: 110\n",
      "\n",
      "Solusi terbaik (urutan kota): ['C', 'A', 'B', 'E', 'D']\n",
      "Total jarak terbaik: 80\n"
     ]
    }
   ],
   "source": [
    "distances = {\n",
    "    'A': {'A': 0, 'B': 10, 'C': 15, 'D': 20, 'E': 25},\n",
    "    'B': {'A': 10, 'B': 0, 'C': 35, 'D': 25, 'E': 15},\n",
    "    'C': {'A': 15, 'B': 35, 'C': 0, 'D': 30, 'E': 20},\n",
    "    'D': {'A': 20, 'B': 25, 'C': 30, 'D': 0, 'E': 10},\n",
    "    'E': {'A': 25, 'B': 15, 'C': 20, 'D': 10, 'E': 0}\n",
    "}\n",
    "\n",
    "cities = ['A', 'B', 'C', 'D', 'E']\n",
    "\n",
    "\n",
    "def total_distance(tour):\n",
    "    dist = 0\n",
    "    for i in range(len(tour)):\n",
    "        dist += distances[tour[i]][tour[(i + 1) % len(tour)]]  \n",
    "    return dist\n",
    "\n",
    "\n",
    "def get_neighbors(tour):\n",
    "    neighbors = []\n",
    "    for i in range(len(tour)):\n",
    "        for j in range(i + 1, len(tour)):\n",
    "            neighbor = tour[:]\n",
    "            neighbor[i], neighbor[j] = neighbor[j], neighbor[i] \n",
    "            neighbors.append(neighbor)\n",
    "    return neighbors\n",
    "\n",
    "current_solution = cities[:]  \n",
    "random.shuffle(current_solution)  \n",
    "current_distance = total_distance(current_solution)\n",
    "\n",
    "print(\"Solusi awal (urutan kota):\", current_solution)\n",
    "print(\"Total jarak awal:\", current_distance)\n",
    "\n",
    "while True:\n",
    "    neighbors = get_neighbors(current_solution)\n",
    "    best_neighbor = min(neighbors, key=lambda tour: total_distance(tour))\n",
    "    best_distance = total_distance(best_neighbor)\n",
    "    \n",
    "    if best_distance >= current_distance:\n",
    "        break\n",
    "    \n",
    "    current_solution = best_neighbor\n",
    "    current_distance = best_distance\n",
    "\n",
    "print(\"\\nSolusi terbaik (urutan kota):\", current_solution)\n",
    "print(\"Total jarak terbaik:\", current_distance)"
   ]
  },
  {
   "cell_type": "markdown",
   "id": "53968879",
   "metadata": {},
   "source": [
    "1. Representasi solusi awal\n",
    "\n",
    "    Solusi awal: E → A → B → C → D → E\n",
    "\n",
    "    Hitung total jarak rute ini berdasarkan tabel:\n",
    "\n",
    "        E → A = 10\n",
    "\n",
    "        A → B = 35\n",
    "\n",
    "        B → C = 30\n",
    "\n",
    "        D → E = 10\n",
    "\n",
    "        E → A = 25\n",
    "\n",
    "    Total jarak: 10 + 35 + 30 + 10 + 25 = 110"
   ]
  },
  {
   "cell_type": "markdown",
   "id": "2bf03b06",
   "metadata": {},
   "source": [
    "2. Cara menghasilkan neighbors\n",
    "\n",
    "    jika solusi awal adalah:\n",
    "\n",
    "    A → B → C → D → E → A\n",
    "\n",
    "    Maka kita dapat menghasilkan neighbor dengan menukar dua kota di tengah, seperti:\n",
    "\n",
    "        Tukar A dan B → E → B → A → C → D → E\n",
    "\n",
    "        Tukar A dan C → E → C → B → A → D → E\n",
    "\n",
    "        Tukar A dan D → E → D → B → C → A → E\n",
    "\n",
    "        Tukar B dan C → E → A → C → B → D → E\n",
    "\n",
    "        Tukar B dan D → E → A → D → C → B → E\n",
    "\n",
    "        Tukar C dan D → E → A → B → D → C → E\n",
    "\n",
    "    Setiap kombinasi pertukaran dua kota menghasilkan satu neighbor baru. Proses ini dilakukan untuk mengeksplorasi kemungkinan rute yang lebih pendek dari solusi saat ini."
   ]
  },
  {
   "cell_type": "markdown",
   "id": "49463ee5",
   "metadata": {},
   "source": [
    "3. Gunakan algoritma Hill Climbing untuk mencari rute yang paling pendek\n",
    "    Langkah-langkah algoritma Hill Climbing:\n",
    "\n",
    "    Solusi awal: E → A → B → C → D → E\n",
    "    Hitung total jaraknya berdasarkan tabel:\n",
    "\n",
    "        E → A = 25\n",
    "\n",
    "        A → B = 10\n",
    "\n",
    "        B → C = 35\n",
    "\n",
    "        C → D = 30\n",
    "\n",
    "        D → E = 10\n",
    "\n",
    "    Total jarak awal = 25 + 10 + 35 + 30 + 10 = 110\n",
    "    Langkah 1: Bangkitkan neighbors dari solusi awal\n",
    "\n",
    "    Dengan menukar dua kota di tengah (A, B, C, D), kita dapatkan 6 neighbor:\n",
    "\n",
    "        E → B → A → C → D → E\n",
    "\n",
    "        E → C → B → A → D → E\n",
    "\n",
    "        E → D → B → C → A → E\n",
    "\n",
    "        E → A → C → B → D → E\n",
    "\n",
    "        E → A → D → C → B → E\n",
    "\n",
    "        E → A → B → D → C → E\n",
    "\n",
    "    Langkah 2: Hitung jarak tiap neighbor\n",
    "\n",
    "        E → B → A → C → D → E\n",
    "        15 + 10 + 15 + 30 + 10 = 80 ✅ (lebih baik)\n",
    "\n",
    "        E → C → B → A → D → E\n",
    "        20 + 35 + 10 + 20 + 10 = 95\n",
    "\n",
    "        E → D → B → C → A → E\n",
    "        10 + 25 + 35 + 15 + 25 = 110\n",
    "\n",
    "        E → A → C → B → D → E\n",
    "        25 + 15 + 35 + 25 + 10 = 110\n",
    "\n",
    "        E → A → D → C → B → E\n",
    "        25 + 20 + 30 + 35 + 15 = 125\n",
    "\n",
    "        E → A → B → D → C → E\n",
    "        25 + 10 + 25 + 30 + 20 = 110\n",
    "\n",
    "    Langkah 3: Pilih neighbor terbaik\n",
    "\n",
    "    Rute dengan total jarak terpendek adalah 80, yaitu:\n",
    "\n",
    "    E → B → A → C → D → E\n",
    "    Langkah 4: Lanjutkan dari solusi baru\n",
    "\n",
    "    Sekarang solusi baru adalah: E → B → A → C → D → E\n",
    "\n",
    "    Cek neighbor dari rute ini, dengan menukar dua kota dari A, B, C, D (tetap tanpa E):\n",
    "\n",
    "        E → A → B → C → D → E (kembali ke solusi awal, 110)\n",
    "\n",
    "        E → C → A → B → D → E\n",
    "\n",
    "        E → D → A → C → B → E\n",
    "\n",
    "        Dst.\n",
    "\n",
    "    Namun, tidak ada neighbor baru yang lebih baik dari 80, sehingga algoritma berhenti di sini."
   ]
  },
  {
   "cell_type": "markdown",
   "id": "5a564d75",
   "metadata": {},
   "source": [
    "4. Apa rute terpendek yang ditemukan oleh algoritma? Apakah rute tersebut merupakan solusi paling optimal atau masih merupakan local optimum?\n",
    "\n",
    "    dikarenakan Rute terpendek yang ditemukan oleh algoritma : E → B → A → C → D → E = 15 + 10 + 15 + 30 + 10 = 80\n",
    "    maka, solusi ini adalah local optimum, bukan jaminan solusi global terbaik (karena algoritma Hill Climbing hanya mencari solusi terbaik secara lokal.)"
   ]
  }
 ],
 "metadata": {
  "kernelspec": {
   "display_name": "Python 3",
   "language": "python",
   "name": "python3"
  },
  "language_info": {
   "codemirror_mode": {
    "name": "ipython",
    "version": 3
   },
   "file_extension": ".py",
   "mimetype": "text/x-python",
   "name": "python",
   "nbconvert_exporter": "python",
   "pygments_lexer": "ipython3",
   "version": "3.13.2"
  }
 },
 "nbformat": 4,
 "nbformat_minor": 5
}
