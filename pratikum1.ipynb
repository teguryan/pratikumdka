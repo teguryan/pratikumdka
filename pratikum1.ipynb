{
 "cells": [
  {
   "cell_type": "markdown",
   "metadata": {},
   "source": [
    "Soal 1:Program Sederhana dengan Python"
   ]
  },
  {
   "cell_type": "markdown",
   "metadata": {},
   "source": [
    "1a"
   ]
  },
  {
   "cell_type": "code",
   "execution_count": null,
   "metadata": {},
   "outputs": [
    {
     "name": "stdout",
     "output_type": "stream",
     "text": [
      "Hello World\n"
     ]
    }
   ],
   "source": [
    "print(\"Hello Ryan\")"
   ]
  },
  {
   "cell_type": "markdown",
   "metadata": {},
   "source": []
  },
  {
   "cell_type": "markdown",
   "metadata": {},
   "source": [
    "1b"
   ]
  },
  {
   "cell_type": "code",
   "execution_count": 3,
   "metadata": {},
   "outputs": [
    {
     "name": "stdout",
     "output_type": "stream",
     "text": [
      "3.0\n"
     ]
    }
   ],
   "source": [
    "akar_sembilan = 9**(1/2)\n",
    "print(akar_sembilan)"
   ]
  },
  {
   "cell_type": "markdown",
   "metadata": {},
   "source": [
    "1c"
   ]
  },
  {
   "cell_type": "code",
   "execution_count": 2,
   "metadata": {},
   "outputs": [
    {
     "name": "stdout",
     "output_type": "stream",
     "text": [
      "160.0\n"
     ]
    }
   ],
   "source": [
    "x = float(input(\"Masukkan nilai x: \")) \n",
    "hasil_persamaan = 20*x**2 + 25*x + 30\n",
    "print(hasil_persamaan)"
   ]
  },
  {
   "cell_type": "markdown",
   "metadata": {},
   "source": [
    "Soal 2:Pengkondisian dalam Python"
   ]
  },
  {
   "cell_type": "markdown",
   "metadata": {},
   "source": [
    "2a "
   ]
  },
  {
   "cell_type": "code",
   "execution_count": 5,
   "metadata": {},
   "outputs": [
    {
     "name": "stdout",
     "output_type": "stream",
     "text": [
      "Bilangan Ganjil\n"
     ]
    }
   ],
   "source": [
    "n = int(input(\"Masukkan nilai n:\"))\n",
    "\n",
    "if n % 2 == 0 : \n",
    "    print(\"Bilangan Genap\")\n",
    "else:\n",
    "    print(\"Bilangan Ganjil\")"
   ]
  },
  {
   "cell_type": "markdown",
   "metadata": {},
   "source": [
    "2b\n"
   ]
  },
  {
   "cell_type": "code",
   "execution_count": null,
   "metadata": {},
   "outputs": [
    {
     "name": "stdout",
     "output_type": "stream",
     "text": [
      "Inputan anomali\n"
     ]
    }
   ],
   "source": [
    "nilai = int(input(\"Masukkan nilai user:\"))\n",
    "\n",
    "if nilai <= 100 and nilai > 84 :\n",
    "    print(\"A\")\n",
    "elif nilai <= 84 and nilai > 69:\n",
    "    print(\"B\")\n",
    "elif nilai <= 69 and nilai > 55:\n",
    "    print(\"C\")\n",
    "elif nilai <= 54 and nilai > 40:\n",
    "    print(\"D\")\n",
    "elif nilai <= 39 and nilai > 0:\n",
    "    print(\"E\")\n",
    "else:\n",
    "    print(\"Inputan anomali\")\n",
    "\n"
   ]
  },
  {
   "cell_type": "markdown",
   "metadata": {},
   "source": [
    "Soal 3:Prosedur dan Fungsi"
   ]
  },
  {
   "cell_type": "markdown",
   "metadata": {},
   "source": [
    "3a\n"
   ]
  },
  {
   "cell_type": "code",
   "execution_count": 15,
   "metadata": {},
   "outputs": [
    {
     "name": "stdout",
     "output_type": "stream",
     "text": [
      "Selamat datang,Afeef\n"
     ]
    }
   ],
   "source": [
    "def greet_reza(nama:str) :\n",
    "    if nama == \"Reza\" :\n",
    "        print(\"Selamat datang kembali,\"+nama)\n",
    "    else :\n",
    "        print(\"Selamat datang,\"+nama)\n",
    "\n",
    "input_nama = input(\"Masukkan nama:\")\n",
    "\n",
    "greet_reza(input_nama)"
   ]
  },
  {
   "cell_type": "markdown",
   "metadata": {},
   "source": [
    "3b\n"
   ]
  },
  {
   "cell_type": "code",
   "execution_count": 20,
   "metadata": {},
   "outputs": [
    {
     "name": "stdout",
     "output_type": "stream",
     "text": [
      "5500\n"
     ]
    }
   ],
   "source": [
    "def konversi(jarak:float) : \n",
    "    jarak = jarak*(10**3)\n",
    "    return jarak \n",
    "\n",
    "input_jarak = float(input(\"Masukkan jarak (KM):\")) \n",
    "\n",
    "hasil_konversi = int(konversi(input_jarak)) \n",
    "print(hasil_konversi) "
   ]
  },
  {
   "cell_type": "markdown",
   "metadata": {},
   "source": [
    "Soal 4:Perulangan"
   ]
  },
  {
   "cell_type": "markdown",
   "metadata": {},
   "source": [
    "4a"
   ]
  },
  {
   "cell_type": "code",
   "execution_count": null,
   "metadata": {},
   "outputs": [
    {
     "name": "stdout",
     "output_type": "stream",
     "text": [
      "Masukkan angka positif!\n"
     ]
    }
   ],
   "source": [
    "n = int(input(\"Masukkan n:\")) \n",
    "if(n < 0):\n",
    "    print(\"Masukkan angka positif!\")\n",
    "    exit(1)\n",
    "\n",
    "for i in range(1, n+1, 2) : # isi nilai none \n",
    "    print(i)"
   ]
  },
  {
   "cell_type": "markdown",
   "metadata": {},
   "source": [
    "4b\n"
   ]
  },
  {
   "cell_type": "code",
   "execution_count": 28,
   "metadata": {},
   "outputs": [
    {
     "name": "stdout",
     "output_type": "stream",
     "text": [
      "15\n"
     ]
    }
   ],
   "source": [
    "def penjumlahan(num:int) : # Buat fungsi untuk menghitung penjumlahan\n",
    "    if num < 1 : # Kondisi jika n kurang dari 1\n",
    "        return 0\n",
    "\n",
    "    else :\n",
    "        total = 0\n",
    "        i = 0\n",
    "        while i <= num : # Buat kondisi untuk melakukan perulangan dari 1 hingga n\n",
    "            total += i # Tambah total dengan i\n",
    "            i+=1 # Tambah i dengan 1 sebagai iterator\n",
    "\n",
    "        return total # Mengembalikan variabel yang menampung nilai total\n",
    "\n",
    "\n",
    "# Buat kode untuk meminta input pengguna dan konversi input ke integer\n",
    "inputn = int(input(\"Masukkan angka:\")) \n",
    "\n",
    "totaljumlah = penjumlahan(inputn) # Panggil fungsi untuk menghitung penjumlahan dan simpan hasilnya kedalam variabel\n",
    "print(totaljumlah) # Tampilkan hasil penjumlahan yang sudah dihitung ke terminal"
   ]
  },
  {
   "cell_type": "markdown",
   "metadata": {},
   "source": [
    "Soal 5:List dan Dictionary"
   ]
  },
  {
   "cell_type": "markdown",
   "metadata": {},
   "source": [
    "5a"
   ]
  },
  {
   "cell_type": "code",
   "execution_count": 29,
   "metadata": {},
   "outputs": [
    {
     "name": "stdout",
     "output_type": "stream",
     "text": [
      "['app.py', 'main.py', 'formula.py', 'program.py']\n"
     ]
    }
   ],
   "source": [
    "filenames = [\"app.go\", \"main.go\", \"formula.go\", \"program.go\"]\n",
    "new_filenames = [] # Buat list kosong\n",
    "\n",
    "for new_name in filenames : # Buat loop untuk iterasi elemen pada lit filenames\n",
    "    new_name = new_name.replace(\".go\",\".py\") # Ganti ekstensi .go menjadi .py menggunakan .replace()\n",
    "    new_filenames.append(new_name) # Masukkan nama yang sudah diganti ke dalam list new_filenames\n",
    "\n",
    "# Cetak list yang berisi nama file yang sudah diganti\n",
    "print(new_filenames)"
   ]
  },
  {
   "cell_type": "markdown",
   "metadata": {},
   "source": [
    "5b"
   ]
  },
  {
   "cell_type": "code",
   "execution_count": 30,
   "metadata": {},
   "outputs": [
    {
     "name": "stdout",
     "output_type": "stream",
     "text": [
      "rafly.arj@gmail.com\n",
      "syahreza.adnan@gmail.com\n",
      "valen.hartanto@gmail.com\n",
      "sabrina.tiara@telkomuniversity.ac.id\n",
      "imelda@telkomuniversity.ac.id\n",
      "raihan.omen@yahoo.com\n",
      "dito.asyraf@yahoo.com\n"
     ]
    }
   ],
   "source": [
    "def email_list(domains:dict) :\n",
    "    emails = [] # List untuk menampung email lengkap\n",
    "\n",
    "    # Loop untuk setiap key dan value pada dict domains\n",
    "    for domain, users in domains.items() :\n",
    "        for user in users:\n",
    "            # Tambahakan email lengkap ke list emails\n",
    "            emails.append(user+'@'+domain)\n",
    "\n",
    "    return emails\n",
    "\n",
    "email_domain = {\n",
    "    \"gmail.com\": [\"rafly.arj\", \"syahreza.adnan\", \"valen.hartanto\"],\n",
    "    \"telkomuniversity.ac.id\" : [\"sabrina.tiara\", \"imelda\"],\n",
    "    \"yahoo.com\" : [\"raihan.omen\", \"dito.asyraf\"]\n",
    "}\n",
    "\n",
    "# Panggil fungsi email_list, kemudian masukkan ke dalam variabel\n",
    "full_email = email_list(email_domain)\n",
    "\n",
    "for i in full_email:\n",
    "    print(i) # Cetak list hasil email lengkap yang didaptkan dari email_list\n"
   ]
  },
  {
   "cell_type": "markdown",
   "metadata": {},
   "source": [
    "Soal 6:Soal Cerita"
   ]
  },
  {
   "cell_type": "code",
   "execution_count": 36,
   "metadata": {},
   "outputs": [
    {
     "name": "stdout",
     "output_type": "stream",
     "text": [
      "Rata-rata nilai ryan adalah 50.0, status: Tidak Lulus\n",
      "Rata-rata nilai pasha adalah 83.33333333333333, status: Lulus\n",
      "Data Siswa:\n",
      "ryan:[60, 60, 30], Rata-rata:50.0, Status:Tidak Lulus\n",
      "pasha:[80, 90, 80], Rata-rata:83.33333333333333, Status:Lulus\n"
     ]
    }
   ],
   "source": [
    "list_siswa = []\n",
    "nilai_siswa = {}\n",
    "\n",
    "\n",
    "while(True):\n",
    "    siswa = input(\"Masukkan nama siswa (atau ketik 'selesai' untuk berhenti): \")\n",
    "    if(siswa.lower() == \"selesai\"):\n",
    "        break \n",
    "    list_siswa.append(siswa)\n",
    "    nilai_pelajaran = []\n",
    "    for i in range(3):\n",
    "        nilai_pelajaran.append(int(input(f\"Masukkan nilai pelajaran {i}: \")))\n",
    "    status = None\n",
    "    rata_rata = sum(nilai_pelajaran) / float(len(nilai_pelajaran))\n",
    "    if( rata_rata>= 70):\n",
    "        status = \"Lulus\"\n",
    "    else:\n",
    "        status = \"Tidak Lulus\"\n",
    "    print(f\"Rata-rata nilai {siswa} adalah {rata_rata}, status: {status}\")\n",
    "    data = (nilai_pelajaran, rata_rata, status)\n",
    "    nilai_siswa.update({siswa:data})\n",
    "    # nilai_pelajaran.clear()\n",
    "print(\"Data Siswa:\")\n",
    "for siswa in list_siswa:\n",
    "    data = nilai_siswa[siswa]\n",
    "    nilai, rata_rata, status = data\n",
    "    print(f\"{siswa}:{nilai}, Rata-rata:{rata_rata}, Status:{status}\")\n",
    "    \n"
   ]
  }
 ],
 "metadata": {
  "kernelspec": {
   "display_name": "Python 3",
   "language": "python",
   "name": "python3"
  },
  "language_info": {
   "codemirror_mode": {
    "name": "ipython",
    "version": 3
   },
   "file_extension": ".py",
   "mimetype": "text/x-python",
   "name": "python",
   "nbconvert_exporter": "python",
   "pygments_lexer": "ipython3",
   "version": "3.13.2"
  }
 },
 "nbformat": 4,
 "nbformat_minor": 2
}
