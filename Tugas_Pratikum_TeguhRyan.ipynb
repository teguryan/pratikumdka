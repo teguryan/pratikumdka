{
 "cells": [
  {
   "cell_type": "code",
   "execution_count": null,
   "id": "2f4c569d",
   "metadata": {},
   "outputs": [],
   "source": [
    "import sympy as sp\n",
    "from IPython.display import display, Math"
   ]
  },
  {
   "cell_type": "markdown",
   "id": "ee78aa8d",
   "metadata": {},
   "source": [
    "### A. Persamaan Linear"
   ]
  },
  {
   "cell_type": "code",
   "execution_count": 21,
   "id": "efdd776c",
   "metadata": {},
   "outputs": [
    {
     "data": {
      "text/latex": [
       "$\\displaystyle x^{2} - 4 = 0$"
      ],
      "text/plain": [
       "<IPython.core.display.Math object>"
      ]
     },
     "metadata": {},
     "output_type": "display_data"
    },
    {
     "data": {
      "text/latex": [
       "$\\displaystyle \\left[ -2, \\  2\\right]$"
      ],
      "text/plain": [
       "<IPython.core.display.Math object>"
      ]
     },
     "metadata": {},
     "output_type": "display_data"
    },
    {
     "name": "stdout",
     "output_type": "stream",
     "text": [
      "\n"
     ]
    },
    {
     "data": {
      "text/latex": [
       "$\\displaystyle x^{2} - 3 x - 4 = 0$"
      ],
      "text/plain": [
       "<IPython.core.display.Math object>"
      ]
     },
     "metadata": {},
     "output_type": "display_data"
    },
    {
     "data": {
      "text/latex": [
       "$\\displaystyle \\left[ -1, \\  4\\right]$"
      ],
      "text/plain": [
       "<IPython.core.display.Math object>"
      ]
     },
     "metadata": {},
     "output_type": "display_data"
    },
    {
     "name": "stdout",
     "output_type": "stream",
     "text": [
      "\n"
     ]
    },
    {
     "data": {
      "text/latex": [
       "$\\displaystyle x^{2} - 6 x + 9 = 0$"
      ],
      "text/plain": [
       "<IPython.core.display.Math object>"
      ]
     },
     "metadata": {},
     "output_type": "display_data"
    },
    {
     "data": {
      "text/latex": [
       "$\\displaystyle \\left[ 3\\right]$"
      ],
      "text/plain": [
       "<IPython.core.display.Math object>"
      ]
     },
     "metadata": {},
     "output_type": "display_data"
    },
    {
     "name": "stdout",
     "output_type": "stream",
     "text": [
      "\n"
     ]
    },
    {
     "data": {
      "text/latex": [
       "$\\displaystyle x^{2} - x - 1 = 0$"
      ],
      "text/plain": [
       "<IPython.core.display.Math object>"
      ]
     },
     "metadata": {},
     "output_type": "display_data"
    },
    {
     "data": {
      "text/latex": [
       "$\\displaystyle \\left[ \\frac{1}{2} - \\frac{\\sqrt{5}}{2}, \\  \\frac{1}{2} + \\frac{\\sqrt{5}}{2}\\right]$"
      ],
      "text/plain": [
       "<IPython.core.display.Math object>"
      ]
     },
     "metadata": {},
     "output_type": "display_data"
    },
    {
     "name": "stdout",
     "output_type": "stream",
     "text": [
      "\n"
     ]
    },
    {
     "data": {
      "text/latex": [
       "$\\displaystyle x^{3} - 6 x^{2} + 11 x - 6 = 0$"
      ],
      "text/plain": [
       "<IPython.core.display.Math object>"
      ]
     },
     "metadata": {},
     "output_type": "display_data"
    },
    {
     "data": {
      "text/latex": [
       "$\\displaystyle \\left[ 1, \\  2, \\  3\\right]$"
      ],
      "text/plain": [
       "<IPython.core.display.Math object>"
      ]
     },
     "metadata": {},
     "output_type": "display_data"
    },
    {
     "name": "stdout",
     "output_type": "stream",
     "text": [
      "\n"
     ]
    },
    {
     "data": {
      "text/latex": [
       "$\\displaystyle x^{3} - 7 x^{2} + 15 x - 9 = 0$"
      ],
      "text/plain": [
       "<IPython.core.display.Math object>"
      ]
     },
     "metadata": {},
     "output_type": "display_data"
    },
    {
     "data": {
      "text/latex": [
       "$\\displaystyle \\left[ 1, \\  3\\right]$"
      ],
      "text/plain": [
       "<IPython.core.display.Math object>"
      ]
     },
     "metadata": {},
     "output_type": "display_data"
    },
    {
     "name": "stdout",
     "output_type": "stream",
     "text": [
      "\n"
     ]
    },
    {
     "data": {
      "text/latex": [
       "$\\displaystyle x^{5} + 7 x^{4} - 9 x^{2} + 15 x + 2 = 0$"
      ],
      "text/plain": [
       "<IPython.core.display.Math object>"
      ]
     },
     "metadata": {},
     "output_type": "display_data"
    },
    {
     "name": "stdout",
     "output_type": "stream",
     "text": [
      "[-6.75506212485949, -1.79320769259375, -0.124188671345194, 0.836229244399218 - 0.793863862370649*I, 0.836229244399218 + 0.793863862370649*I]\n",
      "\n"
     ]
    },
    {
     "data": {
      "text/latex": [
       "$\\displaystyle x^{5} + 9 x^{2} + 2 = 0$"
      ],
      "text/plain": [
       "<IPython.core.display.Math object>"
      ]
     },
     "metadata": {},
     "output_type": "display_data"
    },
    {
     "name": "stdout",
     "output_type": "stream",
     "text": [
      "[-2.11400508065925, -0.00274088737406074 - 0.471332780230528*I, -0.00274088737406074 + 0.471332780230528*I, 1.05974342770368 - 1.77071109891802*I, 1.05974342770368 + 1.77071109891802*I]\n"
     ]
    }
   ],
   "source": [
    "x = sp.symbols('x')\n",
    "\n",
    "equation1 = sp.Eq(x**2 - 4, 0)\n",
    "solution1 = sp.solve(equation1, x)\n",
    "display(Math(sp.latex(equation1)))\n",
    "display(Math(sp.latex(solution1)))\n",
    "print()\n",
    "\n",
    "equation2 = sp.Eq(x**2 - 3*x - 4, 0)\n",
    "solution2 = sp.solve(equation2, x)\n",
    "display(Math(sp.latex(equation2)))\n",
    "display(Math(sp.latex(solution2)))\n",
    "print()\n",
    "\n",
    "equation3 = sp.Eq(x**2 - 6*x + 9, 0)\n",
    "solution3 = sp.solve(equation3, x)\n",
    "display(Math(sp.latex(equation3)))\n",
    "display(Math(sp.latex(solution3)))\n",
    "print()\n",
    "\n",
    "equation4 = sp.Eq(x**2 - x - 1, 0)\n",
    "solution4 = sp.solve(equation4, x)\n",
    "display(Math(sp.latex(equation4)))\n",
    "display(Math(sp.latex(solution4)))\n",
    "print()\n",
    "\n",
    "equation5 = sp.Eq(x**3 - 6*(x**2) + 11*x - 6, 0)\n",
    "solution5 = sp.solve(equation5, x)\n",
    "display(Math(sp.latex(equation5)))\n",
    "display(Math(sp.latex(solution5)))\n",
    "print()\n",
    "\n",
    "equation6 = sp.Eq(x**3 - 7*(x**2) + 15*x - 9, 0)\n",
    "solution6 = sp.solve(equation6, x)\n",
    "display(Math(sp.latex(equation6)))\n",
    "display(Math(sp.latex(solution6)))\n",
    "print()\n",
    "\n",
    "equation7 = sp.Eq(x**5 + 7*(x**4) - 9*(x**2) + 15*x + 2, 0)\n",
    "solution7 = sp.solve(equation7, x)\n",
    "display(Math(sp.latex(equation7)))\n",
    "print([sp.N(solution) for solution in solution7])\n",
    "print()\n",
    "\n",
    "equation8 = sp.Eq(x**5 + 9*(x**2) + 2, 0)\n",
    "solution8 = sp.solve(equation8, x)\n",
    "display(Math(sp.latex(equation8)))\n",
    "print([sp.N(solution) for solution in solution8])"
   ]
  },
  {
   "cell_type": "markdown",
   "id": "22a01623",
   "metadata": {},
   "source": [
    "### B. Turunan"
   ]
  },
  {
   "cell_type": "code",
   "execution_count": 24,
   "id": "442fd2aa",
   "metadata": {},
   "outputs": [
    {
     "data": {
      "text/latex": [
       "$\\displaystyle x^{3} + 3 x^{2} + 6 x$"
      ],
      "text/plain": [
       "<IPython.core.display.Math object>"
      ]
     },
     "metadata": {},
     "output_type": "display_data"
    },
    {
     "data": {
      "text/latex": [
       "$\\displaystyle 3 x^{2} + 6 x + 6$"
      ],
      "text/plain": [
       "<IPython.core.display.Math object>"
      ]
     },
     "metadata": {},
     "output_type": "display_data"
    },
    {
     "name": "stdout",
     "output_type": "stream",
     "text": [
      "\n"
     ]
    },
    {
     "data": {
      "text/latex": [
       "$\\displaystyle x^{5} + x^{4}$"
      ],
      "text/plain": [
       "<IPython.core.display.Math object>"
      ]
     },
     "metadata": {},
     "output_type": "display_data"
    },
    {
     "data": {
      "text/latex": [
       "$\\displaystyle 5 x^{4} + 4 x^{3}$"
      ],
      "text/plain": [
       "<IPython.core.display.Math object>"
      ]
     },
     "metadata": {},
     "output_type": "display_data"
    },
    {
     "name": "stdout",
     "output_type": "stream",
     "text": [
      "\n"
     ]
    },
    {
     "data": {
      "text/latex": [
       "$\\displaystyle \\left(3 x + 5\\right)^{3}$"
      ],
      "text/plain": [
       "<IPython.core.display.Math object>"
      ]
     },
     "metadata": {},
     "output_type": "display_data"
    },
    {
     "data": {
      "text/latex": [
       "$\\displaystyle 9 \\left(3 x + 5\\right)^{2}$"
      ],
      "text/plain": [
       "<IPython.core.display.Math object>"
      ]
     },
     "metadata": {},
     "output_type": "display_data"
    },
    {
     "name": "stdout",
     "output_type": "stream",
     "text": [
      "\n"
     ]
    },
    {
     "data": {
      "text/latex": [
       "$\\displaystyle \\left(3 - 5 x\\right)^{5}$"
      ],
      "text/plain": [
       "<IPython.core.display.Math object>"
      ]
     },
     "metadata": {},
     "output_type": "display_data"
    },
    {
     "data": {
      "text/latex": [
       "$\\displaystyle - 25 \\left(3 - 5 x\\right)^{4}$"
      ],
      "text/plain": [
       "<IPython.core.display.Math object>"
      ]
     },
     "metadata": {},
     "output_type": "display_data"
    },
    {
     "name": "stdout",
     "output_type": "stream",
     "text": [
      "\n"
     ]
    },
    {
     "data": {
      "text/latex": [
       "$\\displaystyle \\sin{\\left(7 x \\right)}$"
      ],
      "text/plain": [
       "<IPython.core.display.Math object>"
      ]
     },
     "metadata": {},
     "output_type": "display_data"
    },
    {
     "data": {
      "text/latex": [
       "$\\displaystyle 7 \\cos{\\left(7 x \\right)}$"
      ],
      "text/plain": [
       "<IPython.core.display.Math object>"
      ]
     },
     "metadata": {},
     "output_type": "display_data"
    },
    {
     "name": "stdout",
     "output_type": "stream",
     "text": [
      "\n"
     ]
    },
    {
     "data": {
      "text/latex": [
       "$\\displaystyle \\sin{\\left(x^{3} \\right)}$"
      ],
      "text/plain": [
       "<IPython.core.display.Math object>"
      ]
     },
     "metadata": {},
     "output_type": "display_data"
    },
    {
     "data": {
      "text/latex": [
       "$\\displaystyle 3 x^{2} \\cos{\\left(x^{3} \\right)}$"
      ],
      "text/plain": [
       "<IPython.core.display.Math object>"
      ]
     },
     "metadata": {},
     "output_type": "display_data"
    },
    {
     "name": "stdout",
     "output_type": "stream",
     "text": [
      "\n"
     ]
    },
    {
     "data": {
      "text/latex": [
       "$\\displaystyle \\frac{1}{x - 1}$"
      ],
      "text/plain": [
       "<IPython.core.display.Math object>"
      ]
     },
     "metadata": {},
     "output_type": "display_data"
    },
    {
     "data": {
      "text/latex": [
       "$\\displaystyle - \\frac{1}{\\left(x - 1\\right)^{2}}$"
      ],
      "text/plain": [
       "<IPython.core.display.Math object>"
      ]
     },
     "metadata": {},
     "output_type": "display_data"
    },
    {
     "name": "stdout",
     "output_type": "stream",
     "text": [
      "\n"
     ]
    },
    {
     "data": {
      "text/latex": [
       "$\\displaystyle \\frac{3 x}{1 - x}$"
      ],
      "text/plain": [
       "<IPython.core.display.Math object>"
      ]
     },
     "metadata": {},
     "output_type": "display_data"
    },
    {
     "data": {
      "text/latex": [
       "$\\displaystyle \\frac{3 x}{\\left(1 - x\\right)^{2}} + \\frac{3}{1 - x}$"
      ],
      "text/plain": [
       "<IPython.core.display.Math object>"
      ]
     },
     "metadata": {},
     "output_type": "display_data"
    },
    {
     "name": "stdout",
     "output_type": "stream",
     "text": [
      "\n"
     ]
    }
   ],
   "source": [
    "list_soal = [(x**3 + 3*(x**2) + 6*x), (x**5 + x**4), ((3*x + 5)**3), ((3 - 5*x)**5), (sp.sin(7*x)), (sp.sin(x**3)), (1 / (x - 1)), (3*x / (1 - x))]\n",
    "\n",
    "for y in list_soal:\n",
    "    y_prime = y.diff(x)\n",
    "    display(Math(sp.latex(y)))\n",
    "    display(Math(sp.latex(y_prime)))\n",
    "    print()"
   ]
  },
  {
   "cell_type": "markdown",
   "id": "bd2db91b",
   "metadata": {},
   "source": [
    "### C. Integral"
   ]
  },
  {
   "cell_type": "code",
   "execution_count": 28,
   "id": "b0665468",
   "metadata": {},
   "outputs": [
    {
     "data": {
      "text/latex": [
       "$\\displaystyle 4$"
      ],
      "text/plain": [
       "<IPython.core.display.Math object>"
      ]
     },
     "metadata": {},
     "output_type": "display_data"
    },
    {
     "data": {
      "text/latex": [
       "$\\displaystyle \\frac{33}{5}$"
      ],
      "text/plain": [
       "<IPython.core.display.Math object>"
      ]
     },
     "metadata": {},
     "output_type": "display_data"
    },
    {
     "data": {
      "text/latex": [
       "$\\displaystyle 15$"
      ],
      "text/plain": [
       "<IPython.core.display.Math object>"
      ]
     },
     "metadata": {},
     "output_type": "display_data"
    },
    {
     "data": {
      "text/latex": [
       "$\\displaystyle 15$"
      ],
      "text/plain": [
       "<IPython.core.display.Math object>"
      ]
     },
     "metadata": {},
     "output_type": "display_data"
    },
    {
     "data": {
      "text/latex": [
       "$\\displaystyle \\frac{3}{w^{2}}$"
      ],
      "text/plain": [
       "<IPython.core.display.Math object>"
      ]
     },
     "metadata": {},
     "output_type": "display_data"
    },
    {
     "data": {
      "text/latex": [
       "$\\displaystyle \\frac{4}{t^{3}}$"
      ],
      "text/plain": [
       "<IPython.core.display.Math object>"
      ]
     },
     "metadata": {},
     "output_type": "display_data"
    },
    {
     "data": {
      "text/latex": [
       "$\\displaystyle 4 \\sqrt{t}$"
      ],
      "text/plain": [
       "<IPython.core.display.Math object>"
      ]
     },
     "metadata": {},
     "output_type": "display_data"
    },
    {
     "data": {
      "text/latex": [
       "$\\displaystyle 7 w^{0.333333333333333}$"
      ],
      "text/plain": [
       "<IPython.core.display.Math object>"
      ]
     },
     "metadata": {},
     "output_type": "display_data"
    },
    {
     "data": {
      "text/latex": [
       "$\\displaystyle - 18 \\log{\\left(5 \\right)} - \\frac{\\log{\\left(4 \\right)}}{9} + \\frac{\\log{\\left(2 \\right)}}{9} + \\frac{82489}{4320} + 18 \\log{\\left(3 \\right)}$"
      ],
      "text/plain": [
       "<IPython.core.display.Math object>"
      ]
     },
     "metadata": {},
     "output_type": "display_data"
    },
    {
     "data": {
      "text/latex": [
       "$\\displaystyle \\frac{3 \\left(s^{4} - 8\\right)}{s^{2}}$"
      ],
      "text/plain": [
       "<IPython.core.display.Math object>"
      ]
     },
     "metadata": {},
     "output_type": "display_data"
    },
    {
     "data": {
      "text/latex": [
       "$\\displaystyle 1$"
      ],
      "text/plain": [
       "<IPython.core.display.Math object>"
      ]
     },
     "metadata": {},
     "output_type": "display_data"
    },
    {
     "data": {
      "text/latex": [
       "$\\displaystyle \\frac{2 \\pi \\sin{\\left(t \\right)}}{3}$"
      ],
      "text/plain": [
       "<IPython.core.display.Math object>"
      ]
     },
     "metadata": {},
     "output_type": "display_data"
    },
    {
     "data": {
      "text/latex": [
       "$\\displaystyle \\frac{22}{5}$"
      ],
      "text/plain": [
       "<IPython.core.display.Math object>"
      ]
     },
     "metadata": {},
     "output_type": "display_data"
    },
    {
     "data": {
      "text/latex": [
       "$\\displaystyle \\frac{22}{5}$"
      ],
      "text/plain": [
       "<IPython.core.display.Math object>"
      ]
     },
     "metadata": {},
     "output_type": "display_data"
    }
   ],
   "source": [
    "w, t, s = sp.symbols('w, t, s')\n",
    "\n",
    "func1 = x**3\n",
    "func1_integral_def = sp.integrate(func1, (x, 0, 2))\n",
    "display(Math(sp.latex(func1_integral_def)))\n",
    "\n",
    "func2 = x**4\n",
    "func2_integral_def = sp.integrate(func2, (x, -1, 2))\n",
    "display(Math(sp.latex(func2_integral_def)))\n",
    "\n",
    "func3 = 3*(x**2) - 2*x + 3\n",
    "func3_integral_def = sp.integrate(func3, (x, -1, 2))\n",
    "display(Math(sp.latex(func3_integral_def)))\n",
    "\n",
    "func4 = 4*(x**3) + 7\n",
    "func4_integral_def = sp.integrate(func4, (x, 1, 2))\n",
    "display(Math(sp.latex(func3_integral_def)))\n",
    "\n",
    "func5 = 1 / (w**2)\n",
    "func5_integral_def = sp.integrate(func5, (x, 1, 4))\n",
    "display(Math(sp.latex(func5_integral_def)))\n",
    "\n",
    "func6 = 2 / (t**3)\n",
    "func6_integral_def = sp.integrate(func6, (x, 1, 3))\n",
    "display(Math(sp.latex(func6_integral_def)))\n",
    "\n",
    "func7 = sp.sqrt(t)\n",
    "func7_integral_def = sp.integrate(func7, (x, 0, 4))\n",
    "display(Math(sp.latex(func7_integral_def)))\n",
    "\n",
    "func8 = w**(1/3)\n",
    "func8_integral_def = sp.integrate(func8, (x, 1, 8))\n",
    "display(Math(sp.latex(func8_integral_def)))\n",
    "\n",
    "func9 = y**2 + (1/(y**3))\n",
    "func9_integral_def = sp.integrate(func9, (x, -4, -2))\n",
    "display(Math(sp.latex(func9_integral_def)))\n",
    "\n",
    "func10 = (s**4 - 8) / (s**2)\n",
    "func10_integral_def = sp.integrate(func10, (x, 1, 4))\n",
    "display(Math(sp.latex(func10_integral_def)))\n",
    "\n",
    "func11 = sp.cos(x)\n",
    "func11_integral_def = sp.integrate(func11, (x, 0, (sp.pi / 2)))\n",
    "display(Math(sp.latex(func11_integral_def)))\n",
    "\n",
    "func12 = 2 * sp.sin(t)\n",
    "func12_integral_def = sp.integrate(func12, (x, (sp.pi / 6), (sp.pi / 2)))\n",
    "display(Math(sp.latex(func12_integral_def)))\n",
    "\n",
    "func13 = 2*(x**4) - 3*(x**2) + 5\n",
    "func13_integral_def = sp.integrate(func13, (x, 0, 1))\n",
    "display(Math(sp.latex(func13_integral_def)))\n",
    "\n",
    "func14 = 2*(x**4) - 3*(x**2) + 5\n",
    "func14_integral_def = sp.integrate(func14, (x, 0, 1))\n",
    "display(Math(sp.latex(func14_integral_def)))"
   ]
  },
  {
   "cell_type": "code",
   "execution_count": 32,
   "id": "b0a53f90",
   "metadata": {},
   "outputs": [
    {
     "data": {
      "text/latex": [
       "$\\displaystyle \\left[\\begin{matrix}1 & 0 & 0 & -1\\\\3 & 1 & 2 & 2\\\\1 & 0 & -2 & 1\\\\2 & 0 & 0 & 1\\end{matrix}\\right]$"
      ],
      "text/plain": [
       "<IPython.core.display.Math object>"
      ]
     },
     "metadata": {},
     "output_type": "display_data"
    },
    {
     "name": "stdout",
     "output_type": "stream",
     "text": [
      "Determinan A = -6\n"
     ]
    }
   ],
   "source": [
    "matrix_A = sp.Matrix([[1, 0, 0, -1], [3, 1, 2, 2], [1, 0, -2, 1], [2, 0, 0, 1]])\n",
    "det_matrix_A = matrix_A.det()\n",
    "display(Math(sp.latex(matrix_A)))\n",
    "print(\"Determinan A = \" + str(det_matrix_A))"
   ]
  }
 ],
 "metadata": {
  "kernelspec": {
   "display_name": "Python 3",
   "language": "python",
   "name": "python3"
  },
  "language_info": {
   "codemirror_mode": {
    "name": "ipython",
    "version": 3
   },
   "file_extension": ".py",
   "mimetype": "text/x-python",
   "name": "python",
   "nbconvert_exporter": "python",
   "pygments_lexer": "ipython3",
   "version": "3.12.4"
  }
 },
 "nbformat": 4,
 "nbformat_minor": 5
}
